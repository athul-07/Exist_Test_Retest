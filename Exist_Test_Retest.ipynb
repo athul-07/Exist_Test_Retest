{
  "nbformat": 4,
  "nbformat_minor": 0,
  "metadata": {
    "colab": {
      "provenance": []
    },
    "kernelspec": {
      "name": "python3",
      "display_name": "Python 3"
    },
    "language_info": {
      "name": "python"
    }
  },
  "cells": [
    {
      "cell_type": "code",
      "source": [
        "#importing necessary libraries"
      ],
      "metadata": {
        "id": "CrvUnE7KH2TK"
      },
      "execution_count": 1,
      "outputs": []
    },
    {
      "cell_type": "code",
      "execution_count": 2,
      "metadata": {
        "id": "RJZEevnKFuAb"
      },
      "outputs": [],
      "source": [
        "import pandas as pd\n",
        "import numpy as np\n",
        "import matplotlib.pyplot as plt\n",
        "import seaborn as sns"
      ]
    },
    {
      "cell_type": "code",
      "source": [
        "#reading the dataset"
      ],
      "metadata": {
        "id": "o9Z8HvUeH4-f"
      },
      "execution_count": 3,
      "outputs": []
    },
    {
      "cell_type": "code",
      "source": [
        "data = pd.read_csv('/content/tweet_emotions.csv')"
      ],
      "metadata": {
        "id": "2gGHiR1cGC4v"
      },
      "execution_count": 4,
      "outputs": []
    },
    {
      "cell_type": "code",
      "source": [
        "#taking the dataset information"
      ],
      "metadata": {
        "id": "sYpgGEn5H8zc"
      },
      "execution_count": 5,
      "outputs": []
    },
    {
      "cell_type": "code",
      "source": [
        "data.head()"
      ],
      "metadata": {
        "colab": {
          "base_uri": "https://localhost:8080/",
          "height": 206
        },
        "id": "bMCBBSo0GLbw",
        "outputId": "19cae44d-74ea-4209-a508-9e4db6a03dfd"
      },
      "execution_count": 6,
      "outputs": [
        {
          "output_type": "execute_result",
          "data": {
            "text/plain": [
              "     tweet_id   sentiment                                            content\n",
              "0  1956967341       empty  @tiffanylue i know  i was listenin to bad habi...\n",
              "1  1956967666     sadness  Layin n bed with a headache  ughhhh...waitin o...\n",
              "2  1956967696     sadness                Funeral ceremony...gloomy friday...\n",
              "3  1956967789  enthusiasm               wants to hang out with friends SOON!\n",
              "4  1956968416     neutral  @dannycastillo We want to trade with someone w..."
            ],
            "text/html": [
              "\n",
              "  <div id=\"df-b6648006-ad00-4264-a6a2-586580edf127\" class=\"colab-df-container\">\n",
              "    <div>\n",
              "<style scoped>\n",
              "    .dataframe tbody tr th:only-of-type {\n",
              "        vertical-align: middle;\n",
              "    }\n",
              "\n",
              "    .dataframe tbody tr th {\n",
              "        vertical-align: top;\n",
              "    }\n",
              "\n",
              "    .dataframe thead th {\n",
              "        text-align: right;\n",
              "    }\n",
              "</style>\n",
              "<table border=\"1\" class=\"dataframe\">\n",
              "  <thead>\n",
              "    <tr style=\"text-align: right;\">\n",
              "      <th></th>\n",
              "      <th>tweet_id</th>\n",
              "      <th>sentiment</th>\n",
              "      <th>content</th>\n",
              "    </tr>\n",
              "  </thead>\n",
              "  <tbody>\n",
              "    <tr>\n",
              "      <th>0</th>\n",
              "      <td>1956967341</td>\n",
              "      <td>empty</td>\n",
              "      <td>@tiffanylue i know  i was listenin to bad habi...</td>\n",
              "    </tr>\n",
              "    <tr>\n",
              "      <th>1</th>\n",
              "      <td>1956967666</td>\n",
              "      <td>sadness</td>\n",
              "      <td>Layin n bed with a headache  ughhhh...waitin o...</td>\n",
              "    </tr>\n",
              "    <tr>\n",
              "      <th>2</th>\n",
              "      <td>1956967696</td>\n",
              "      <td>sadness</td>\n",
              "      <td>Funeral ceremony...gloomy friday...</td>\n",
              "    </tr>\n",
              "    <tr>\n",
              "      <th>3</th>\n",
              "      <td>1956967789</td>\n",
              "      <td>enthusiasm</td>\n",
              "      <td>wants to hang out with friends SOON!</td>\n",
              "    </tr>\n",
              "    <tr>\n",
              "      <th>4</th>\n",
              "      <td>1956968416</td>\n",
              "      <td>neutral</td>\n",
              "      <td>@dannycastillo We want to trade with someone w...</td>\n",
              "    </tr>\n",
              "  </tbody>\n",
              "</table>\n",
              "</div>\n",
              "    <div class=\"colab-df-buttons\">\n",
              "\n",
              "  <div class=\"colab-df-container\">\n",
              "    <button class=\"colab-df-convert\" onclick=\"convertToInteractive('df-b6648006-ad00-4264-a6a2-586580edf127')\"\n",
              "            title=\"Convert this dataframe to an interactive table.\"\n",
              "            style=\"display:none;\">\n",
              "\n",
              "  <svg xmlns=\"http://www.w3.org/2000/svg\" height=\"24px\" viewBox=\"0 -960 960 960\">\n",
              "    <path d=\"M120-120v-720h720v720H120Zm60-500h600v-160H180v160Zm220 220h160v-160H400v160Zm0 220h160v-160H400v160ZM180-400h160v-160H180v160Zm440 0h160v-160H620v160ZM180-180h160v-160H180v160Zm440 0h160v-160H620v160Z\"/>\n",
              "  </svg>\n",
              "    </button>\n",
              "\n",
              "  <style>\n",
              "    .colab-df-container {\n",
              "      display:flex;\n",
              "      gap: 12px;\n",
              "    }\n",
              "\n",
              "    .colab-df-convert {\n",
              "      background-color: #E8F0FE;\n",
              "      border: none;\n",
              "      border-radius: 50%;\n",
              "      cursor: pointer;\n",
              "      display: none;\n",
              "      fill: #1967D2;\n",
              "      height: 32px;\n",
              "      padding: 0 0 0 0;\n",
              "      width: 32px;\n",
              "    }\n",
              "\n",
              "    .colab-df-convert:hover {\n",
              "      background-color: #E2EBFA;\n",
              "      box-shadow: 0px 1px 2px rgba(60, 64, 67, 0.3), 0px 1px 3px 1px rgba(60, 64, 67, 0.15);\n",
              "      fill: #174EA6;\n",
              "    }\n",
              "\n",
              "    .colab-df-buttons div {\n",
              "      margin-bottom: 4px;\n",
              "    }\n",
              "\n",
              "    [theme=dark] .colab-df-convert {\n",
              "      background-color: #3B4455;\n",
              "      fill: #D2E3FC;\n",
              "    }\n",
              "\n",
              "    [theme=dark] .colab-df-convert:hover {\n",
              "      background-color: #434B5C;\n",
              "      box-shadow: 0px 1px 3px 1px rgba(0, 0, 0, 0.15);\n",
              "      filter: drop-shadow(0px 1px 2px rgba(0, 0, 0, 0.3));\n",
              "      fill: #FFFFFF;\n",
              "    }\n",
              "  </style>\n",
              "\n",
              "    <script>\n",
              "      const buttonEl =\n",
              "        document.querySelector('#df-b6648006-ad00-4264-a6a2-586580edf127 button.colab-df-convert');\n",
              "      buttonEl.style.display =\n",
              "        google.colab.kernel.accessAllowed ? 'block' : 'none';\n",
              "\n",
              "      async function convertToInteractive(key) {\n",
              "        const element = document.querySelector('#df-b6648006-ad00-4264-a6a2-586580edf127');\n",
              "        const dataTable =\n",
              "          await google.colab.kernel.invokeFunction('convertToInteractive',\n",
              "                                                    [key], {});\n",
              "        if (!dataTable) return;\n",
              "\n",
              "        const docLinkHtml = 'Like what you see? Visit the ' +\n",
              "          '<a target=\"_blank\" href=https://colab.research.google.com/notebooks/data_table.ipynb>data table notebook</a>'\n",
              "          + ' to learn more about interactive tables.';\n",
              "        element.innerHTML = '';\n",
              "        dataTable['output_type'] = 'display_data';\n",
              "        await google.colab.output.renderOutput(dataTable, element);\n",
              "        const docLink = document.createElement('div');\n",
              "        docLink.innerHTML = docLinkHtml;\n",
              "        element.appendChild(docLink);\n",
              "      }\n",
              "    </script>\n",
              "  </div>\n",
              "\n",
              "\n",
              "<div id=\"df-310ac154-3bf9-4db3-9093-ccbe51cf3667\">\n",
              "  <button class=\"colab-df-quickchart\" onclick=\"quickchart('df-310ac154-3bf9-4db3-9093-ccbe51cf3667')\"\n",
              "            title=\"Suggest charts\"\n",
              "            style=\"display:none;\">\n",
              "\n",
              "<svg xmlns=\"http://www.w3.org/2000/svg\" height=\"24px\"viewBox=\"0 0 24 24\"\n",
              "     width=\"24px\">\n",
              "    <g>\n",
              "        <path d=\"M19 3H5c-1.1 0-2 .9-2 2v14c0 1.1.9 2 2 2h14c1.1 0 2-.9 2-2V5c0-1.1-.9-2-2-2zM9 17H7v-7h2v7zm4 0h-2V7h2v10zm4 0h-2v-4h2v4z\"/>\n",
              "    </g>\n",
              "</svg>\n",
              "  </button>\n",
              "\n",
              "<style>\n",
              "  .colab-df-quickchart {\n",
              "      --bg-color: #E8F0FE;\n",
              "      --fill-color: #1967D2;\n",
              "      --hover-bg-color: #E2EBFA;\n",
              "      --hover-fill-color: #174EA6;\n",
              "      --disabled-fill-color: #AAA;\n",
              "      --disabled-bg-color: #DDD;\n",
              "  }\n",
              "\n",
              "  [theme=dark] .colab-df-quickchart {\n",
              "      --bg-color: #3B4455;\n",
              "      --fill-color: #D2E3FC;\n",
              "      --hover-bg-color: #434B5C;\n",
              "      --hover-fill-color: #FFFFFF;\n",
              "      --disabled-bg-color: #3B4455;\n",
              "      --disabled-fill-color: #666;\n",
              "  }\n",
              "\n",
              "  .colab-df-quickchart {\n",
              "    background-color: var(--bg-color);\n",
              "    border: none;\n",
              "    border-radius: 50%;\n",
              "    cursor: pointer;\n",
              "    display: none;\n",
              "    fill: var(--fill-color);\n",
              "    height: 32px;\n",
              "    padding: 0;\n",
              "    width: 32px;\n",
              "  }\n",
              "\n",
              "  .colab-df-quickchart:hover {\n",
              "    background-color: var(--hover-bg-color);\n",
              "    box-shadow: 0 1px 2px rgba(60, 64, 67, 0.3), 0 1px 3px 1px rgba(60, 64, 67, 0.15);\n",
              "    fill: var(--button-hover-fill-color);\n",
              "  }\n",
              "\n",
              "  .colab-df-quickchart-complete:disabled,\n",
              "  .colab-df-quickchart-complete:disabled:hover {\n",
              "    background-color: var(--disabled-bg-color);\n",
              "    fill: var(--disabled-fill-color);\n",
              "    box-shadow: none;\n",
              "  }\n",
              "\n",
              "  .colab-df-spinner {\n",
              "    border: 2px solid var(--fill-color);\n",
              "    border-color: transparent;\n",
              "    border-bottom-color: var(--fill-color);\n",
              "    animation:\n",
              "      spin 1s steps(1) infinite;\n",
              "  }\n",
              "\n",
              "  @keyframes spin {\n",
              "    0% {\n",
              "      border-color: transparent;\n",
              "      border-bottom-color: var(--fill-color);\n",
              "      border-left-color: var(--fill-color);\n",
              "    }\n",
              "    20% {\n",
              "      border-color: transparent;\n",
              "      border-left-color: var(--fill-color);\n",
              "      border-top-color: var(--fill-color);\n",
              "    }\n",
              "    30% {\n",
              "      border-color: transparent;\n",
              "      border-left-color: var(--fill-color);\n",
              "      border-top-color: var(--fill-color);\n",
              "      border-right-color: var(--fill-color);\n",
              "    }\n",
              "    40% {\n",
              "      border-color: transparent;\n",
              "      border-right-color: var(--fill-color);\n",
              "      border-top-color: var(--fill-color);\n",
              "    }\n",
              "    60% {\n",
              "      border-color: transparent;\n",
              "      border-right-color: var(--fill-color);\n",
              "    }\n",
              "    80% {\n",
              "      border-color: transparent;\n",
              "      border-right-color: var(--fill-color);\n",
              "      border-bottom-color: var(--fill-color);\n",
              "    }\n",
              "    90% {\n",
              "      border-color: transparent;\n",
              "      border-bottom-color: var(--fill-color);\n",
              "    }\n",
              "  }\n",
              "</style>\n",
              "\n",
              "  <script>\n",
              "    async function quickchart(key) {\n",
              "      const quickchartButtonEl =\n",
              "        document.querySelector('#' + key + ' button');\n",
              "      quickchartButtonEl.disabled = true;  // To prevent multiple clicks.\n",
              "      quickchartButtonEl.classList.add('colab-df-spinner');\n",
              "      try {\n",
              "        const charts = await google.colab.kernel.invokeFunction(\n",
              "            'suggestCharts', [key], {});\n",
              "      } catch (error) {\n",
              "        console.error('Error during call to suggestCharts:', error);\n",
              "      }\n",
              "      quickchartButtonEl.classList.remove('colab-df-spinner');\n",
              "      quickchartButtonEl.classList.add('colab-df-quickchart-complete');\n",
              "    }\n",
              "    (() => {\n",
              "      let quickchartButtonEl =\n",
              "        document.querySelector('#df-310ac154-3bf9-4db3-9093-ccbe51cf3667 button');\n",
              "      quickchartButtonEl.style.display =\n",
              "        google.colab.kernel.accessAllowed ? 'block' : 'none';\n",
              "    })();\n",
              "  </script>\n",
              "</div>\n",
              "\n",
              "    </div>\n",
              "  </div>\n"
            ],
            "application/vnd.google.colaboratory.intrinsic+json": {
              "type": "dataframe",
              "variable_name": "data",
              "summary": "{\n  \"name\": \"data\",\n  \"rows\": 40000,\n  \"fields\": [\n    {\n      \"column\": \"tweet_id\",\n      \"properties\": {\n        \"dtype\": \"number\",\n        \"std\": 118857896,\n        \"min\": 1693956175,\n        \"max\": 1966441171,\n        \"num_unique_values\": 40000,\n        \"samples\": [\n          1752414968,\n          1965295852,\n          1696219218\n        ],\n        \"semantic_type\": \"\",\n        \"description\": \"\"\n      }\n    },\n    {\n      \"column\": \"sentiment\",\n      \"properties\": {\n        \"dtype\": \"category\",\n        \"num_unique_values\": 13,\n        \"samples\": [\n          \"relief\",\n          \"happiness\",\n          \"empty\"\n        ],\n        \"semantic_type\": \"\",\n        \"description\": \"\"\n      }\n    },\n    {\n      \"column\": \"content\",\n      \"properties\": {\n        \"dtype\": \"string\",\n        \"num_unique_values\": 39827,\n        \"samples\": [\n          \"the sun is shinning! im off out!!\",\n          \"wow i must have been tired. i fell asleep @ exactly the start of the 10pm news &amp; now up as if its 8am.\",\n          \"@knobzie their loss\"\n        ],\n        \"semantic_type\": \"\",\n        \"description\": \"\"\n      }\n    }\n  ]\n}"
            }
          },
          "metadata": {},
          "execution_count": 6
        }
      ]
    },
    {
      "cell_type": "code",
      "source": [
        "#information about the dataset"
      ],
      "metadata": {
        "id": "zuOnGKj1HN13"
      },
      "execution_count": 7,
      "outputs": []
    },
    {
      "cell_type": "code",
      "source": [
        "data.info()"
      ],
      "metadata": {
        "colab": {
          "base_uri": "https://localhost:8080/"
        },
        "id": "_hVgBAzYGN-P",
        "outputId": "5132a40e-8ef3-4a7f-e502-f3a18130022b"
      },
      "execution_count": 8,
      "outputs": [
        {
          "output_type": "stream",
          "name": "stdout",
          "text": [
            "<class 'pandas.core.frame.DataFrame'>\n",
            "RangeIndex: 40000 entries, 0 to 39999\n",
            "Data columns (total 3 columns):\n",
            " #   Column     Non-Null Count  Dtype \n",
            "---  ------     --------------  ----- \n",
            " 0   tweet_id   40000 non-null  int64 \n",
            " 1   sentiment  40000 non-null  object\n",
            " 2   content    40000 non-null  object\n",
            "dtypes: int64(1), object(2)\n",
            "memory usage: 937.6+ KB\n"
          ]
        }
      ]
    },
    {
      "cell_type": "code",
      "source": [
        "data.describe()"
      ],
      "metadata": {
        "colab": {
          "base_uri": "https://localhost:8080/",
          "height": 300
        },
        "id": "yYjj9JY_GS7Q",
        "outputId": "74f486cb-5846-4c6e-c97a-eb3389ce0bc1"
      },
      "execution_count": 9,
      "outputs": [
        {
          "output_type": "execute_result",
          "data": {
            "text/plain": [
              "           tweet_id\n",
              "count  4.000000e+04\n",
              "mean   1.845184e+09\n",
              "std    1.188579e+08\n",
              "min    1.693956e+09\n",
              "25%    1.751431e+09\n",
              "50%    1.855443e+09\n",
              "75%    1.962781e+09\n",
              "max    1.966441e+09"
            ],
            "text/html": [
              "\n",
              "  <div id=\"df-850555fe-a695-48bf-a2ca-668b517244c1\" class=\"colab-df-container\">\n",
              "    <div>\n",
              "<style scoped>\n",
              "    .dataframe tbody tr th:only-of-type {\n",
              "        vertical-align: middle;\n",
              "    }\n",
              "\n",
              "    .dataframe tbody tr th {\n",
              "        vertical-align: top;\n",
              "    }\n",
              "\n",
              "    .dataframe thead th {\n",
              "        text-align: right;\n",
              "    }\n",
              "</style>\n",
              "<table border=\"1\" class=\"dataframe\">\n",
              "  <thead>\n",
              "    <tr style=\"text-align: right;\">\n",
              "      <th></th>\n",
              "      <th>tweet_id</th>\n",
              "    </tr>\n",
              "  </thead>\n",
              "  <tbody>\n",
              "    <tr>\n",
              "      <th>count</th>\n",
              "      <td>4.000000e+04</td>\n",
              "    </tr>\n",
              "    <tr>\n",
              "      <th>mean</th>\n",
              "      <td>1.845184e+09</td>\n",
              "    </tr>\n",
              "    <tr>\n",
              "      <th>std</th>\n",
              "      <td>1.188579e+08</td>\n",
              "    </tr>\n",
              "    <tr>\n",
              "      <th>min</th>\n",
              "      <td>1.693956e+09</td>\n",
              "    </tr>\n",
              "    <tr>\n",
              "      <th>25%</th>\n",
              "      <td>1.751431e+09</td>\n",
              "    </tr>\n",
              "    <tr>\n",
              "      <th>50%</th>\n",
              "      <td>1.855443e+09</td>\n",
              "    </tr>\n",
              "    <tr>\n",
              "      <th>75%</th>\n",
              "      <td>1.962781e+09</td>\n",
              "    </tr>\n",
              "    <tr>\n",
              "      <th>max</th>\n",
              "      <td>1.966441e+09</td>\n",
              "    </tr>\n",
              "  </tbody>\n",
              "</table>\n",
              "</div>\n",
              "    <div class=\"colab-df-buttons\">\n",
              "\n",
              "  <div class=\"colab-df-container\">\n",
              "    <button class=\"colab-df-convert\" onclick=\"convertToInteractive('df-850555fe-a695-48bf-a2ca-668b517244c1')\"\n",
              "            title=\"Convert this dataframe to an interactive table.\"\n",
              "            style=\"display:none;\">\n",
              "\n",
              "  <svg xmlns=\"http://www.w3.org/2000/svg\" height=\"24px\" viewBox=\"0 -960 960 960\">\n",
              "    <path d=\"M120-120v-720h720v720H120Zm60-500h600v-160H180v160Zm220 220h160v-160H400v160Zm0 220h160v-160H400v160ZM180-400h160v-160H180v160Zm440 0h160v-160H620v160ZM180-180h160v-160H180v160Zm440 0h160v-160H620v160Z\"/>\n",
              "  </svg>\n",
              "    </button>\n",
              "\n",
              "  <style>\n",
              "    .colab-df-container {\n",
              "      display:flex;\n",
              "      gap: 12px;\n",
              "    }\n",
              "\n",
              "    .colab-df-convert {\n",
              "      background-color: #E8F0FE;\n",
              "      border: none;\n",
              "      border-radius: 50%;\n",
              "      cursor: pointer;\n",
              "      display: none;\n",
              "      fill: #1967D2;\n",
              "      height: 32px;\n",
              "      padding: 0 0 0 0;\n",
              "      width: 32px;\n",
              "    }\n",
              "\n",
              "    .colab-df-convert:hover {\n",
              "      background-color: #E2EBFA;\n",
              "      box-shadow: 0px 1px 2px rgba(60, 64, 67, 0.3), 0px 1px 3px 1px rgba(60, 64, 67, 0.15);\n",
              "      fill: #174EA6;\n",
              "    }\n",
              "\n",
              "    .colab-df-buttons div {\n",
              "      margin-bottom: 4px;\n",
              "    }\n",
              "\n",
              "    [theme=dark] .colab-df-convert {\n",
              "      background-color: #3B4455;\n",
              "      fill: #D2E3FC;\n",
              "    }\n",
              "\n",
              "    [theme=dark] .colab-df-convert:hover {\n",
              "      background-color: #434B5C;\n",
              "      box-shadow: 0px 1px 3px 1px rgba(0, 0, 0, 0.15);\n",
              "      filter: drop-shadow(0px 1px 2px rgba(0, 0, 0, 0.3));\n",
              "      fill: #FFFFFF;\n",
              "    }\n",
              "  </style>\n",
              "\n",
              "    <script>\n",
              "      const buttonEl =\n",
              "        document.querySelector('#df-850555fe-a695-48bf-a2ca-668b517244c1 button.colab-df-convert');\n",
              "      buttonEl.style.display =\n",
              "        google.colab.kernel.accessAllowed ? 'block' : 'none';\n",
              "\n",
              "      async function convertToInteractive(key) {\n",
              "        const element = document.querySelector('#df-850555fe-a695-48bf-a2ca-668b517244c1');\n",
              "        const dataTable =\n",
              "          await google.colab.kernel.invokeFunction('convertToInteractive',\n",
              "                                                    [key], {});\n",
              "        if (!dataTable) return;\n",
              "\n",
              "        const docLinkHtml = 'Like what you see? Visit the ' +\n",
              "          '<a target=\"_blank\" href=https://colab.research.google.com/notebooks/data_table.ipynb>data table notebook</a>'\n",
              "          + ' to learn more about interactive tables.';\n",
              "        element.innerHTML = '';\n",
              "        dataTable['output_type'] = 'display_data';\n",
              "        await google.colab.output.renderOutput(dataTable, element);\n",
              "        const docLink = document.createElement('div');\n",
              "        docLink.innerHTML = docLinkHtml;\n",
              "        element.appendChild(docLink);\n",
              "      }\n",
              "    </script>\n",
              "  </div>\n",
              "\n",
              "\n",
              "<div id=\"df-a1161e3f-c9e9-46e5-bd5d-a6403fef1625\">\n",
              "  <button class=\"colab-df-quickchart\" onclick=\"quickchart('df-a1161e3f-c9e9-46e5-bd5d-a6403fef1625')\"\n",
              "            title=\"Suggest charts\"\n",
              "            style=\"display:none;\">\n",
              "\n",
              "<svg xmlns=\"http://www.w3.org/2000/svg\" height=\"24px\"viewBox=\"0 0 24 24\"\n",
              "     width=\"24px\">\n",
              "    <g>\n",
              "        <path d=\"M19 3H5c-1.1 0-2 .9-2 2v14c0 1.1.9 2 2 2h14c1.1 0 2-.9 2-2V5c0-1.1-.9-2-2-2zM9 17H7v-7h2v7zm4 0h-2V7h2v10zm4 0h-2v-4h2v4z\"/>\n",
              "    </g>\n",
              "</svg>\n",
              "  </button>\n",
              "\n",
              "<style>\n",
              "  .colab-df-quickchart {\n",
              "      --bg-color: #E8F0FE;\n",
              "      --fill-color: #1967D2;\n",
              "      --hover-bg-color: #E2EBFA;\n",
              "      --hover-fill-color: #174EA6;\n",
              "      --disabled-fill-color: #AAA;\n",
              "      --disabled-bg-color: #DDD;\n",
              "  }\n",
              "\n",
              "  [theme=dark] .colab-df-quickchart {\n",
              "      --bg-color: #3B4455;\n",
              "      --fill-color: #D2E3FC;\n",
              "      --hover-bg-color: #434B5C;\n",
              "      --hover-fill-color: #FFFFFF;\n",
              "      --disabled-bg-color: #3B4455;\n",
              "      --disabled-fill-color: #666;\n",
              "  }\n",
              "\n",
              "  .colab-df-quickchart {\n",
              "    background-color: var(--bg-color);\n",
              "    border: none;\n",
              "    border-radius: 50%;\n",
              "    cursor: pointer;\n",
              "    display: none;\n",
              "    fill: var(--fill-color);\n",
              "    height: 32px;\n",
              "    padding: 0;\n",
              "    width: 32px;\n",
              "  }\n",
              "\n",
              "  .colab-df-quickchart:hover {\n",
              "    background-color: var(--hover-bg-color);\n",
              "    box-shadow: 0 1px 2px rgba(60, 64, 67, 0.3), 0 1px 3px 1px rgba(60, 64, 67, 0.15);\n",
              "    fill: var(--button-hover-fill-color);\n",
              "  }\n",
              "\n",
              "  .colab-df-quickchart-complete:disabled,\n",
              "  .colab-df-quickchart-complete:disabled:hover {\n",
              "    background-color: var(--disabled-bg-color);\n",
              "    fill: var(--disabled-fill-color);\n",
              "    box-shadow: none;\n",
              "  }\n",
              "\n",
              "  .colab-df-spinner {\n",
              "    border: 2px solid var(--fill-color);\n",
              "    border-color: transparent;\n",
              "    border-bottom-color: var(--fill-color);\n",
              "    animation:\n",
              "      spin 1s steps(1) infinite;\n",
              "  }\n",
              "\n",
              "  @keyframes spin {\n",
              "    0% {\n",
              "      border-color: transparent;\n",
              "      border-bottom-color: var(--fill-color);\n",
              "      border-left-color: var(--fill-color);\n",
              "    }\n",
              "    20% {\n",
              "      border-color: transparent;\n",
              "      border-left-color: var(--fill-color);\n",
              "      border-top-color: var(--fill-color);\n",
              "    }\n",
              "    30% {\n",
              "      border-color: transparent;\n",
              "      border-left-color: var(--fill-color);\n",
              "      border-top-color: var(--fill-color);\n",
              "      border-right-color: var(--fill-color);\n",
              "    }\n",
              "    40% {\n",
              "      border-color: transparent;\n",
              "      border-right-color: var(--fill-color);\n",
              "      border-top-color: var(--fill-color);\n",
              "    }\n",
              "    60% {\n",
              "      border-color: transparent;\n",
              "      border-right-color: var(--fill-color);\n",
              "    }\n",
              "    80% {\n",
              "      border-color: transparent;\n",
              "      border-right-color: var(--fill-color);\n",
              "      border-bottom-color: var(--fill-color);\n",
              "    }\n",
              "    90% {\n",
              "      border-color: transparent;\n",
              "      border-bottom-color: var(--fill-color);\n",
              "    }\n",
              "  }\n",
              "</style>\n",
              "\n",
              "  <script>\n",
              "    async function quickchart(key) {\n",
              "      const quickchartButtonEl =\n",
              "        document.querySelector('#' + key + ' button');\n",
              "      quickchartButtonEl.disabled = true;  // To prevent multiple clicks.\n",
              "      quickchartButtonEl.classList.add('colab-df-spinner');\n",
              "      try {\n",
              "        const charts = await google.colab.kernel.invokeFunction(\n",
              "            'suggestCharts', [key], {});\n",
              "      } catch (error) {\n",
              "        console.error('Error during call to suggestCharts:', error);\n",
              "      }\n",
              "      quickchartButtonEl.classList.remove('colab-df-spinner');\n",
              "      quickchartButtonEl.classList.add('colab-df-quickchart-complete');\n",
              "    }\n",
              "    (() => {\n",
              "      let quickchartButtonEl =\n",
              "        document.querySelector('#df-a1161e3f-c9e9-46e5-bd5d-a6403fef1625 button');\n",
              "      quickchartButtonEl.style.display =\n",
              "        google.colab.kernel.accessAllowed ? 'block' : 'none';\n",
              "    })();\n",
              "  </script>\n",
              "</div>\n",
              "\n",
              "    </div>\n",
              "  </div>\n"
            ],
            "application/vnd.google.colaboratory.intrinsic+json": {
              "type": "dataframe",
              "summary": "{\n  \"name\": \"data\",\n  \"rows\": 8,\n  \"fields\": [\n    {\n      \"column\": \"tweet_id\",\n      \"properties\": {\n        \"dtype\": \"number\",\n        \"std\": 832750889.020535,\n        \"min\": 40000.0,\n        \"max\": 1966441171.0,\n        \"num_unique_values\": 8,\n        \"samples\": [\n          1845183995.1773,\n          1855443195.0,\n          40000.0\n        ],\n        \"semantic_type\": \"\",\n        \"description\": \"\"\n      }\n    }\n  ]\n}"
            }
          },
          "metadata": {},
          "execution_count": 9
        }
      ]
    },
    {
      "cell_type": "code",
      "source": [
        "#identifying the types of data in the dataset"
      ],
      "metadata": {
        "id": "Xhym8-EcHWUg"
      },
      "execution_count": 10,
      "outputs": []
    },
    {
      "cell_type": "code",
      "source": [
        "data.dtypes"
      ],
      "metadata": {
        "colab": {
          "base_uri": "https://localhost:8080/"
        },
        "id": "OSHThOSZGWuC",
        "outputId": "1a1a82c7-7ad2-4d27-a26a-28d514ee56cb"
      },
      "execution_count": 11,
      "outputs": [
        {
          "output_type": "execute_result",
          "data": {
            "text/plain": [
              "tweet_id      int64\n",
              "sentiment    object\n",
              "content      object\n",
              "dtype: object"
            ]
          },
          "metadata": {},
          "execution_count": 11
        }
      ]
    },
    {
      "cell_type": "code",
      "source": [
        "#checking for the null values in the dataset"
      ],
      "metadata": {
        "id": "JHiHBAoQHZ7s"
      },
      "execution_count": 12,
      "outputs": []
    },
    {
      "cell_type": "code",
      "source": [
        "data.isna().sum()"
      ],
      "metadata": {
        "colab": {
          "base_uri": "https://localhost:8080/"
        },
        "id": "4F2VkpGIGcm_",
        "outputId": "7dab9ec2-813d-4cce-cf9d-e13b980a0251"
      },
      "execution_count": 13,
      "outputs": [
        {
          "output_type": "execute_result",
          "data": {
            "text/plain": [
              "tweet_id     0\n",
              "sentiment    0\n",
              "content      0\n",
              "dtype: int64"
            ]
          },
          "metadata": {},
          "execution_count": 13
        }
      ]
    },
    {
      "cell_type": "code",
      "source": [
        "#printing the number of columns in the dataset"
      ],
      "metadata": {
        "id": "hD6ClYLlHek0"
      },
      "execution_count": 14,
      "outputs": []
    },
    {
      "cell_type": "code",
      "source": [
        "data.columns"
      ],
      "metadata": {
        "colab": {
          "base_uri": "https://localhost:8080/"
        },
        "id": "J-EZm0gAGf5l",
        "outputId": "071a903b-b515-4529-dac3-4fe089b814d5"
      },
      "execution_count": 15,
      "outputs": [
        {
          "output_type": "execute_result",
          "data": {
            "text/plain": [
              "Index(['tweet_id', 'sentiment', 'content'], dtype='object')"
            ]
          },
          "metadata": {},
          "execution_count": 15
        }
      ]
    },
    {
      "cell_type": "code",
      "source": [
        "#taking the counts of the content"
      ],
      "metadata": {
        "id": "A12mebYjHjPr"
      },
      "execution_count": 16,
      "outputs": []
    },
    {
      "cell_type": "code",
      "source": [
        "data['content'].value_counts()"
      ],
      "metadata": {
        "colab": {
          "base_uri": "https://localhost:8080/"
        },
        "id": "4tOVzr8HGmIy",
        "outputId": "862ae4f7-47ea-4a6d-c44e-92fea9f4ceaa"
      },
      "execution_count": 17,
      "outputs": [
        {
          "output_type": "execute_result",
          "data": {
            "text/plain": [
              "I just received a mothers day card from my lovely daughter wishing my a happy mothers day  http://tr.im/kWK9                            14\n",
              "FREE UNLIMITED RINGTONES!!! - http://tinyurl.com/freeringring - USA ONLY - Awesome 4 iphone                                             13\n",
              "Happy Mother's Day!                                                                                                                     10\n",
              "Happy Mothers Day                                                                                                                       10\n",
              "happy mother's day                                                                                                                       8\n",
              "                                                                                                                                        ..\n",
              "Sick daddy  send prayer his way                                                                                                          1\n",
              "Laura's gone for the weekend, I miss her already!                                                                                        1\n",
              "Is leaving Utah today  Super Sad Face                                                                                                    1\n",
              "@KulpreetSingh Good god, no. You can fit very few swear words into 140 characters                                                        1\n",
              "@mopedronin bullet train from tokyo    the gf and i have been visiting japan since thursday  vacation/sightseeing    gaijin godzilla     1\n",
              "Name: content, Length: 39827, dtype: int64"
            ]
          },
          "metadata": {},
          "execution_count": 17
        }
      ]
    },
    {
      "cell_type": "code",
      "source": [
        "#taking the counts of the sentiments in the dataset"
      ],
      "metadata": {
        "id": "BYdGqjlvHnLB"
      },
      "execution_count": 18,
      "outputs": []
    },
    {
      "cell_type": "code",
      "source": [
        "data['sentiment'].value_counts()"
      ],
      "metadata": {
        "colab": {
          "base_uri": "https://localhost:8080/"
        },
        "id": "mHWr3FIBGtCx",
        "outputId": "dc199626-a23b-47a7-8e4f-87a184d1a4e8"
      },
      "execution_count": 19,
      "outputs": [
        {
          "output_type": "execute_result",
          "data": {
            "text/plain": [
              "neutral       8638\n",
              "worry         8459\n",
              "happiness     5209\n",
              "sadness       5165\n",
              "love          3842\n",
              "surprise      2187\n",
              "fun           1776\n",
              "relief        1526\n",
              "hate          1323\n",
              "empty          827\n",
              "enthusiasm     759\n",
              "boredom        179\n",
              "anger          110\n",
              "Name: sentiment, dtype: int64"
            ]
          },
          "metadata": {},
          "execution_count": 19
        }
      ]
    },
    {
      "cell_type": "code",
      "source": [
        "data.head()"
      ],
      "metadata": {
        "colab": {
          "base_uri": "https://localhost:8080/",
          "height": 206
        },
        "id": "D4TcEFmkIcTM",
        "outputId": "6a7aa62c-bc33-45f4-c3d5-1c7150ca5a9d"
      },
      "execution_count": 20,
      "outputs": [
        {
          "output_type": "execute_result",
          "data": {
            "text/plain": [
              "     tweet_id   sentiment                                            content\n",
              "0  1956967341       empty  @tiffanylue i know  i was listenin to bad habi...\n",
              "1  1956967666     sadness  Layin n bed with a headache  ughhhh...waitin o...\n",
              "2  1956967696     sadness                Funeral ceremony...gloomy friday...\n",
              "3  1956967789  enthusiasm               wants to hang out with friends SOON!\n",
              "4  1956968416     neutral  @dannycastillo We want to trade with someone w..."
            ],
            "text/html": [
              "\n",
              "  <div id=\"df-8c683394-b0c5-4ffe-9011-eb8f2186df8f\" class=\"colab-df-container\">\n",
              "    <div>\n",
              "<style scoped>\n",
              "    .dataframe tbody tr th:only-of-type {\n",
              "        vertical-align: middle;\n",
              "    }\n",
              "\n",
              "    .dataframe tbody tr th {\n",
              "        vertical-align: top;\n",
              "    }\n",
              "\n",
              "    .dataframe thead th {\n",
              "        text-align: right;\n",
              "    }\n",
              "</style>\n",
              "<table border=\"1\" class=\"dataframe\">\n",
              "  <thead>\n",
              "    <tr style=\"text-align: right;\">\n",
              "      <th></th>\n",
              "      <th>tweet_id</th>\n",
              "      <th>sentiment</th>\n",
              "      <th>content</th>\n",
              "    </tr>\n",
              "  </thead>\n",
              "  <tbody>\n",
              "    <tr>\n",
              "      <th>0</th>\n",
              "      <td>1956967341</td>\n",
              "      <td>empty</td>\n",
              "      <td>@tiffanylue i know  i was listenin to bad habi...</td>\n",
              "    </tr>\n",
              "    <tr>\n",
              "      <th>1</th>\n",
              "      <td>1956967666</td>\n",
              "      <td>sadness</td>\n",
              "      <td>Layin n bed with a headache  ughhhh...waitin o...</td>\n",
              "    </tr>\n",
              "    <tr>\n",
              "      <th>2</th>\n",
              "      <td>1956967696</td>\n",
              "      <td>sadness</td>\n",
              "      <td>Funeral ceremony...gloomy friday...</td>\n",
              "    </tr>\n",
              "    <tr>\n",
              "      <th>3</th>\n",
              "      <td>1956967789</td>\n",
              "      <td>enthusiasm</td>\n",
              "      <td>wants to hang out with friends SOON!</td>\n",
              "    </tr>\n",
              "    <tr>\n",
              "      <th>4</th>\n",
              "      <td>1956968416</td>\n",
              "      <td>neutral</td>\n",
              "      <td>@dannycastillo We want to trade with someone w...</td>\n",
              "    </tr>\n",
              "  </tbody>\n",
              "</table>\n",
              "</div>\n",
              "    <div class=\"colab-df-buttons\">\n",
              "\n",
              "  <div class=\"colab-df-container\">\n",
              "    <button class=\"colab-df-convert\" onclick=\"convertToInteractive('df-8c683394-b0c5-4ffe-9011-eb8f2186df8f')\"\n",
              "            title=\"Convert this dataframe to an interactive table.\"\n",
              "            style=\"display:none;\">\n",
              "\n",
              "  <svg xmlns=\"http://www.w3.org/2000/svg\" height=\"24px\" viewBox=\"0 -960 960 960\">\n",
              "    <path d=\"M120-120v-720h720v720H120Zm60-500h600v-160H180v160Zm220 220h160v-160H400v160Zm0 220h160v-160H400v160ZM180-400h160v-160H180v160Zm440 0h160v-160H620v160ZM180-180h160v-160H180v160Zm440 0h160v-160H620v160Z\"/>\n",
              "  </svg>\n",
              "    </button>\n",
              "\n",
              "  <style>\n",
              "    .colab-df-container {\n",
              "      display:flex;\n",
              "      gap: 12px;\n",
              "    }\n",
              "\n",
              "    .colab-df-convert {\n",
              "      background-color: #E8F0FE;\n",
              "      border: none;\n",
              "      border-radius: 50%;\n",
              "      cursor: pointer;\n",
              "      display: none;\n",
              "      fill: #1967D2;\n",
              "      height: 32px;\n",
              "      padding: 0 0 0 0;\n",
              "      width: 32px;\n",
              "    }\n",
              "\n",
              "    .colab-df-convert:hover {\n",
              "      background-color: #E2EBFA;\n",
              "      box-shadow: 0px 1px 2px rgba(60, 64, 67, 0.3), 0px 1px 3px 1px rgba(60, 64, 67, 0.15);\n",
              "      fill: #174EA6;\n",
              "    }\n",
              "\n",
              "    .colab-df-buttons div {\n",
              "      margin-bottom: 4px;\n",
              "    }\n",
              "\n",
              "    [theme=dark] .colab-df-convert {\n",
              "      background-color: #3B4455;\n",
              "      fill: #D2E3FC;\n",
              "    }\n",
              "\n",
              "    [theme=dark] .colab-df-convert:hover {\n",
              "      background-color: #434B5C;\n",
              "      box-shadow: 0px 1px 3px 1px rgba(0, 0, 0, 0.15);\n",
              "      filter: drop-shadow(0px 1px 2px rgba(0, 0, 0, 0.3));\n",
              "      fill: #FFFFFF;\n",
              "    }\n",
              "  </style>\n",
              "\n",
              "    <script>\n",
              "      const buttonEl =\n",
              "        document.querySelector('#df-8c683394-b0c5-4ffe-9011-eb8f2186df8f button.colab-df-convert');\n",
              "      buttonEl.style.display =\n",
              "        google.colab.kernel.accessAllowed ? 'block' : 'none';\n",
              "\n",
              "      async function convertToInteractive(key) {\n",
              "        const element = document.querySelector('#df-8c683394-b0c5-4ffe-9011-eb8f2186df8f');\n",
              "        const dataTable =\n",
              "          await google.colab.kernel.invokeFunction('convertToInteractive',\n",
              "                                                    [key], {});\n",
              "        if (!dataTable) return;\n",
              "\n",
              "        const docLinkHtml = 'Like what you see? Visit the ' +\n",
              "          '<a target=\"_blank\" href=https://colab.research.google.com/notebooks/data_table.ipynb>data table notebook</a>'\n",
              "          + ' to learn more about interactive tables.';\n",
              "        element.innerHTML = '';\n",
              "        dataTable['output_type'] = 'display_data';\n",
              "        await google.colab.output.renderOutput(dataTable, element);\n",
              "        const docLink = document.createElement('div');\n",
              "        docLink.innerHTML = docLinkHtml;\n",
              "        element.appendChild(docLink);\n",
              "      }\n",
              "    </script>\n",
              "  </div>\n",
              "\n",
              "\n",
              "<div id=\"df-fdd9f505-ab89-40f0-98ba-3d99b65f032d\">\n",
              "  <button class=\"colab-df-quickchart\" onclick=\"quickchart('df-fdd9f505-ab89-40f0-98ba-3d99b65f032d')\"\n",
              "            title=\"Suggest charts\"\n",
              "            style=\"display:none;\">\n",
              "\n",
              "<svg xmlns=\"http://www.w3.org/2000/svg\" height=\"24px\"viewBox=\"0 0 24 24\"\n",
              "     width=\"24px\">\n",
              "    <g>\n",
              "        <path d=\"M19 3H5c-1.1 0-2 .9-2 2v14c0 1.1.9 2 2 2h14c1.1 0 2-.9 2-2V5c0-1.1-.9-2-2-2zM9 17H7v-7h2v7zm4 0h-2V7h2v10zm4 0h-2v-4h2v4z\"/>\n",
              "    </g>\n",
              "</svg>\n",
              "  </button>\n",
              "\n",
              "<style>\n",
              "  .colab-df-quickchart {\n",
              "      --bg-color: #E8F0FE;\n",
              "      --fill-color: #1967D2;\n",
              "      --hover-bg-color: #E2EBFA;\n",
              "      --hover-fill-color: #174EA6;\n",
              "      --disabled-fill-color: #AAA;\n",
              "      --disabled-bg-color: #DDD;\n",
              "  }\n",
              "\n",
              "  [theme=dark] .colab-df-quickchart {\n",
              "      --bg-color: #3B4455;\n",
              "      --fill-color: #D2E3FC;\n",
              "      --hover-bg-color: #434B5C;\n",
              "      --hover-fill-color: #FFFFFF;\n",
              "      --disabled-bg-color: #3B4455;\n",
              "      --disabled-fill-color: #666;\n",
              "  }\n",
              "\n",
              "  .colab-df-quickchart {\n",
              "    background-color: var(--bg-color);\n",
              "    border: none;\n",
              "    border-radius: 50%;\n",
              "    cursor: pointer;\n",
              "    display: none;\n",
              "    fill: var(--fill-color);\n",
              "    height: 32px;\n",
              "    padding: 0;\n",
              "    width: 32px;\n",
              "  }\n",
              "\n",
              "  .colab-df-quickchart:hover {\n",
              "    background-color: var(--hover-bg-color);\n",
              "    box-shadow: 0 1px 2px rgba(60, 64, 67, 0.3), 0 1px 3px 1px rgba(60, 64, 67, 0.15);\n",
              "    fill: var(--button-hover-fill-color);\n",
              "  }\n",
              "\n",
              "  .colab-df-quickchart-complete:disabled,\n",
              "  .colab-df-quickchart-complete:disabled:hover {\n",
              "    background-color: var(--disabled-bg-color);\n",
              "    fill: var(--disabled-fill-color);\n",
              "    box-shadow: none;\n",
              "  }\n",
              "\n",
              "  .colab-df-spinner {\n",
              "    border: 2px solid var(--fill-color);\n",
              "    border-color: transparent;\n",
              "    border-bottom-color: var(--fill-color);\n",
              "    animation:\n",
              "      spin 1s steps(1) infinite;\n",
              "  }\n",
              "\n",
              "  @keyframes spin {\n",
              "    0% {\n",
              "      border-color: transparent;\n",
              "      border-bottom-color: var(--fill-color);\n",
              "      border-left-color: var(--fill-color);\n",
              "    }\n",
              "    20% {\n",
              "      border-color: transparent;\n",
              "      border-left-color: var(--fill-color);\n",
              "      border-top-color: var(--fill-color);\n",
              "    }\n",
              "    30% {\n",
              "      border-color: transparent;\n",
              "      border-left-color: var(--fill-color);\n",
              "      border-top-color: var(--fill-color);\n",
              "      border-right-color: var(--fill-color);\n",
              "    }\n",
              "    40% {\n",
              "      border-color: transparent;\n",
              "      border-right-color: var(--fill-color);\n",
              "      border-top-color: var(--fill-color);\n",
              "    }\n",
              "    60% {\n",
              "      border-color: transparent;\n",
              "      border-right-color: var(--fill-color);\n",
              "    }\n",
              "    80% {\n",
              "      border-color: transparent;\n",
              "      border-right-color: var(--fill-color);\n",
              "      border-bottom-color: var(--fill-color);\n",
              "    }\n",
              "    90% {\n",
              "      border-color: transparent;\n",
              "      border-bottom-color: var(--fill-color);\n",
              "    }\n",
              "  }\n",
              "</style>\n",
              "\n",
              "  <script>\n",
              "    async function quickchart(key) {\n",
              "      const quickchartButtonEl =\n",
              "        document.querySelector('#' + key + ' button');\n",
              "      quickchartButtonEl.disabled = true;  // To prevent multiple clicks.\n",
              "      quickchartButtonEl.classList.add('colab-df-spinner');\n",
              "      try {\n",
              "        const charts = await google.colab.kernel.invokeFunction(\n",
              "            'suggestCharts', [key], {});\n",
              "      } catch (error) {\n",
              "        console.error('Error during call to suggestCharts:', error);\n",
              "      }\n",
              "      quickchartButtonEl.classList.remove('colab-df-spinner');\n",
              "      quickchartButtonEl.classList.add('colab-df-quickchart-complete');\n",
              "    }\n",
              "    (() => {\n",
              "      let quickchartButtonEl =\n",
              "        document.querySelector('#df-fdd9f505-ab89-40f0-98ba-3d99b65f032d button');\n",
              "      quickchartButtonEl.style.display =\n",
              "        google.colab.kernel.accessAllowed ? 'block' : 'none';\n",
              "    })();\n",
              "  </script>\n",
              "</div>\n",
              "\n",
              "    </div>\n",
              "  </div>\n"
            ],
            "application/vnd.google.colaboratory.intrinsic+json": {
              "type": "dataframe",
              "variable_name": "data",
              "summary": "{\n  \"name\": \"data\",\n  \"rows\": 40000,\n  \"fields\": [\n    {\n      \"column\": \"tweet_id\",\n      \"properties\": {\n        \"dtype\": \"number\",\n        \"std\": 118857896,\n        \"min\": 1693956175,\n        \"max\": 1966441171,\n        \"num_unique_values\": 40000,\n        \"samples\": [\n          1752414968,\n          1965295852,\n          1696219218\n        ],\n        \"semantic_type\": \"\",\n        \"description\": \"\"\n      }\n    },\n    {\n      \"column\": \"sentiment\",\n      \"properties\": {\n        \"dtype\": \"category\",\n        \"num_unique_values\": 13,\n        \"samples\": [\n          \"relief\",\n          \"happiness\",\n          \"empty\"\n        ],\n        \"semantic_type\": \"\",\n        \"description\": \"\"\n      }\n    },\n    {\n      \"column\": \"content\",\n      \"properties\": {\n        \"dtype\": \"string\",\n        \"num_unique_values\": 39827,\n        \"samples\": [\n          \"the sun is shinning! im off out!!\",\n          \"wow i must have been tired. i fell asleep @ exactly the start of the 10pm news &amp; now up as if its 8am.\",\n          \"@knobzie their loss\"\n        ],\n        \"semantic_type\": \"\",\n        \"description\": \"\"\n      }\n    }\n  ]\n}"
            }
          },
          "metadata": {},
          "execution_count": 20
        }
      ]
    },
    {
      "cell_type": "code",
      "source": [
        "#removing the punctuations"
      ],
      "metadata": {
        "id": "fN3FdV_PIx9n"
      },
      "execution_count": 21,
      "outputs": []
    },
    {
      "cell_type": "code",
      "source": [
        "import string"
      ],
      "metadata": {
        "id": "pX4QsjzNI1Av"
      },
      "execution_count": 22,
      "outputs": []
    },
    {
      "cell_type": "code",
      "source": [
        "PTR = string.punctuation\n",
        "def r_pun(text):\n",
        "  return text.translate(str.maketrans('','',PTR))\n",
        "\n",
        "data['content'] = data['content'].apply(lambda text :r_pun(text))"
      ],
      "metadata": {
        "id": "TYDYzg8uI3nf"
      },
      "execution_count": 23,
      "outputs": []
    },
    {
      "cell_type": "code",
      "source": [
        "data['content']"
      ],
      "metadata": {
        "colab": {
          "base_uri": "https://localhost:8080/"
        },
        "id": "4d30gzJlI7PW",
        "outputId": "c942f7f0-388b-45b0-fb87-d3c1766523d3"
      },
      "execution_count": 24,
      "outputs": [
        {
          "output_type": "execute_result",
          "data": {
            "text/plain": [
              "0        tiffanylue i know  i was listenin to bad habit...\n",
              "1        Layin n bed with a headache  ughhhhwaitin on y...\n",
              "2                            Funeral ceremonygloomy friday\n",
              "3                      wants to hang out with friends SOON\n",
              "4        dannycastillo We want to trade with someone wh...\n",
              "                               ...                        \n",
              "39995                                      JohnLloydTaylor\n",
              "39996                       Happy Mothers Day  All my love\n",
              "39997    Happy Mothers Day to all the mommies out there...\n",
              "39998    niariley WASSUP BEAUTIFUL FOLLOW ME  PEEP OUT ...\n",
              "39999    mopedronin bullet train from tokyo    the gf a...\n",
              "Name: content, Length: 40000, dtype: object"
            ]
          },
          "metadata": {},
          "execution_count": 24
        }
      ]
    },
    {
      "cell_type": "code",
      "source": [
        "#lowercasing the data"
      ],
      "metadata": {
        "id": "vGJx2xAqJCQt"
      },
      "execution_count": 25,
      "outputs": []
    },
    {
      "cell_type": "code",
      "source": [
        "data['content'] = data['content'].apply(lambda x:x.lower())"
      ],
      "metadata": {
        "id": "EgSjP0CBJHhb"
      },
      "execution_count": 26,
      "outputs": []
    },
    {
      "cell_type": "code",
      "source": [
        "data['content']"
      ],
      "metadata": {
        "colab": {
          "base_uri": "https://localhost:8080/"
        },
        "id": "c5IxTq1CJLod",
        "outputId": "66b27521-5add-4085-dee7-2a5442cf1573"
      },
      "execution_count": 27,
      "outputs": [
        {
          "output_type": "execute_result",
          "data": {
            "text/plain": [
              "0        tiffanylue i know  i was listenin to bad habit...\n",
              "1        layin n bed with a headache  ughhhhwaitin on y...\n",
              "2                            funeral ceremonygloomy friday\n",
              "3                      wants to hang out with friends soon\n",
              "4        dannycastillo we want to trade with someone wh...\n",
              "                               ...                        \n",
              "39995                                      johnlloydtaylor\n",
              "39996                       happy mothers day  all my love\n",
              "39997    happy mothers day to all the mommies out there...\n",
              "39998    niariley wassup beautiful follow me  peep out ...\n",
              "39999    mopedronin bullet train from tokyo    the gf a...\n",
              "Name: content, Length: 40000, dtype: object"
            ]
          },
          "metadata": {},
          "execution_count": 27
        }
      ]
    },
    {
      "cell_type": "code",
      "source": [
        "data.head()"
      ],
      "metadata": {
        "colab": {
          "base_uri": "https://localhost:8080/",
          "height": 206
        },
        "id": "CXDlPSdRJQbJ",
        "outputId": "76eb9625-c4ac-488b-9cce-4d758b454e3f"
      },
      "execution_count": 28,
      "outputs": [
        {
          "output_type": "execute_result",
          "data": {
            "text/plain": [
              "     tweet_id   sentiment                                            content\n",
              "0  1956967341       empty  tiffanylue i know  i was listenin to bad habit...\n",
              "1  1956967666     sadness  layin n bed with a headache  ughhhhwaitin on y...\n",
              "2  1956967696     sadness                      funeral ceremonygloomy friday\n",
              "3  1956967789  enthusiasm                wants to hang out with friends soon\n",
              "4  1956968416     neutral  dannycastillo we want to trade with someone wh..."
            ],
            "text/html": [
              "\n",
              "  <div id=\"df-603cc7fc-546e-4de3-9f17-e991badc2264\" class=\"colab-df-container\">\n",
              "    <div>\n",
              "<style scoped>\n",
              "    .dataframe tbody tr th:only-of-type {\n",
              "        vertical-align: middle;\n",
              "    }\n",
              "\n",
              "    .dataframe tbody tr th {\n",
              "        vertical-align: top;\n",
              "    }\n",
              "\n",
              "    .dataframe thead th {\n",
              "        text-align: right;\n",
              "    }\n",
              "</style>\n",
              "<table border=\"1\" class=\"dataframe\">\n",
              "  <thead>\n",
              "    <tr style=\"text-align: right;\">\n",
              "      <th></th>\n",
              "      <th>tweet_id</th>\n",
              "      <th>sentiment</th>\n",
              "      <th>content</th>\n",
              "    </tr>\n",
              "  </thead>\n",
              "  <tbody>\n",
              "    <tr>\n",
              "      <th>0</th>\n",
              "      <td>1956967341</td>\n",
              "      <td>empty</td>\n",
              "      <td>tiffanylue i know  i was listenin to bad habit...</td>\n",
              "    </tr>\n",
              "    <tr>\n",
              "      <th>1</th>\n",
              "      <td>1956967666</td>\n",
              "      <td>sadness</td>\n",
              "      <td>layin n bed with a headache  ughhhhwaitin on y...</td>\n",
              "    </tr>\n",
              "    <tr>\n",
              "      <th>2</th>\n",
              "      <td>1956967696</td>\n",
              "      <td>sadness</td>\n",
              "      <td>funeral ceremonygloomy friday</td>\n",
              "    </tr>\n",
              "    <tr>\n",
              "      <th>3</th>\n",
              "      <td>1956967789</td>\n",
              "      <td>enthusiasm</td>\n",
              "      <td>wants to hang out with friends soon</td>\n",
              "    </tr>\n",
              "    <tr>\n",
              "      <th>4</th>\n",
              "      <td>1956968416</td>\n",
              "      <td>neutral</td>\n",
              "      <td>dannycastillo we want to trade with someone wh...</td>\n",
              "    </tr>\n",
              "  </tbody>\n",
              "</table>\n",
              "</div>\n",
              "    <div class=\"colab-df-buttons\">\n",
              "\n",
              "  <div class=\"colab-df-container\">\n",
              "    <button class=\"colab-df-convert\" onclick=\"convertToInteractive('df-603cc7fc-546e-4de3-9f17-e991badc2264')\"\n",
              "            title=\"Convert this dataframe to an interactive table.\"\n",
              "            style=\"display:none;\">\n",
              "\n",
              "  <svg xmlns=\"http://www.w3.org/2000/svg\" height=\"24px\" viewBox=\"0 -960 960 960\">\n",
              "    <path d=\"M120-120v-720h720v720H120Zm60-500h600v-160H180v160Zm220 220h160v-160H400v160Zm0 220h160v-160H400v160ZM180-400h160v-160H180v160Zm440 0h160v-160H620v160ZM180-180h160v-160H180v160Zm440 0h160v-160H620v160Z\"/>\n",
              "  </svg>\n",
              "    </button>\n",
              "\n",
              "  <style>\n",
              "    .colab-df-container {\n",
              "      display:flex;\n",
              "      gap: 12px;\n",
              "    }\n",
              "\n",
              "    .colab-df-convert {\n",
              "      background-color: #E8F0FE;\n",
              "      border: none;\n",
              "      border-radius: 50%;\n",
              "      cursor: pointer;\n",
              "      display: none;\n",
              "      fill: #1967D2;\n",
              "      height: 32px;\n",
              "      padding: 0 0 0 0;\n",
              "      width: 32px;\n",
              "    }\n",
              "\n",
              "    .colab-df-convert:hover {\n",
              "      background-color: #E2EBFA;\n",
              "      box-shadow: 0px 1px 2px rgba(60, 64, 67, 0.3), 0px 1px 3px 1px rgba(60, 64, 67, 0.15);\n",
              "      fill: #174EA6;\n",
              "    }\n",
              "\n",
              "    .colab-df-buttons div {\n",
              "      margin-bottom: 4px;\n",
              "    }\n",
              "\n",
              "    [theme=dark] .colab-df-convert {\n",
              "      background-color: #3B4455;\n",
              "      fill: #D2E3FC;\n",
              "    }\n",
              "\n",
              "    [theme=dark] .colab-df-convert:hover {\n",
              "      background-color: #434B5C;\n",
              "      box-shadow: 0px 1px 3px 1px rgba(0, 0, 0, 0.15);\n",
              "      filter: drop-shadow(0px 1px 2px rgba(0, 0, 0, 0.3));\n",
              "      fill: #FFFFFF;\n",
              "    }\n",
              "  </style>\n",
              "\n",
              "    <script>\n",
              "      const buttonEl =\n",
              "        document.querySelector('#df-603cc7fc-546e-4de3-9f17-e991badc2264 button.colab-df-convert');\n",
              "      buttonEl.style.display =\n",
              "        google.colab.kernel.accessAllowed ? 'block' : 'none';\n",
              "\n",
              "      async function convertToInteractive(key) {\n",
              "        const element = document.querySelector('#df-603cc7fc-546e-4de3-9f17-e991badc2264');\n",
              "        const dataTable =\n",
              "          await google.colab.kernel.invokeFunction('convertToInteractive',\n",
              "                                                    [key], {});\n",
              "        if (!dataTable) return;\n",
              "\n",
              "        const docLinkHtml = 'Like what you see? Visit the ' +\n",
              "          '<a target=\"_blank\" href=https://colab.research.google.com/notebooks/data_table.ipynb>data table notebook</a>'\n",
              "          + ' to learn more about interactive tables.';\n",
              "        element.innerHTML = '';\n",
              "        dataTable['output_type'] = 'display_data';\n",
              "        await google.colab.output.renderOutput(dataTable, element);\n",
              "        const docLink = document.createElement('div');\n",
              "        docLink.innerHTML = docLinkHtml;\n",
              "        element.appendChild(docLink);\n",
              "      }\n",
              "    </script>\n",
              "  </div>\n",
              "\n",
              "\n",
              "<div id=\"df-a39e8760-b320-47c5-b75b-8b1baf3ba39f\">\n",
              "  <button class=\"colab-df-quickchart\" onclick=\"quickchart('df-a39e8760-b320-47c5-b75b-8b1baf3ba39f')\"\n",
              "            title=\"Suggest charts\"\n",
              "            style=\"display:none;\">\n",
              "\n",
              "<svg xmlns=\"http://www.w3.org/2000/svg\" height=\"24px\"viewBox=\"0 0 24 24\"\n",
              "     width=\"24px\">\n",
              "    <g>\n",
              "        <path d=\"M19 3H5c-1.1 0-2 .9-2 2v14c0 1.1.9 2 2 2h14c1.1 0 2-.9 2-2V5c0-1.1-.9-2-2-2zM9 17H7v-7h2v7zm4 0h-2V7h2v10zm4 0h-2v-4h2v4z\"/>\n",
              "    </g>\n",
              "</svg>\n",
              "  </button>\n",
              "\n",
              "<style>\n",
              "  .colab-df-quickchart {\n",
              "      --bg-color: #E8F0FE;\n",
              "      --fill-color: #1967D2;\n",
              "      --hover-bg-color: #E2EBFA;\n",
              "      --hover-fill-color: #174EA6;\n",
              "      --disabled-fill-color: #AAA;\n",
              "      --disabled-bg-color: #DDD;\n",
              "  }\n",
              "\n",
              "  [theme=dark] .colab-df-quickchart {\n",
              "      --bg-color: #3B4455;\n",
              "      --fill-color: #D2E3FC;\n",
              "      --hover-bg-color: #434B5C;\n",
              "      --hover-fill-color: #FFFFFF;\n",
              "      --disabled-bg-color: #3B4455;\n",
              "      --disabled-fill-color: #666;\n",
              "  }\n",
              "\n",
              "  .colab-df-quickchart {\n",
              "    background-color: var(--bg-color);\n",
              "    border: none;\n",
              "    border-radius: 50%;\n",
              "    cursor: pointer;\n",
              "    display: none;\n",
              "    fill: var(--fill-color);\n",
              "    height: 32px;\n",
              "    padding: 0;\n",
              "    width: 32px;\n",
              "  }\n",
              "\n",
              "  .colab-df-quickchart:hover {\n",
              "    background-color: var(--hover-bg-color);\n",
              "    box-shadow: 0 1px 2px rgba(60, 64, 67, 0.3), 0 1px 3px 1px rgba(60, 64, 67, 0.15);\n",
              "    fill: var(--button-hover-fill-color);\n",
              "  }\n",
              "\n",
              "  .colab-df-quickchart-complete:disabled,\n",
              "  .colab-df-quickchart-complete:disabled:hover {\n",
              "    background-color: var(--disabled-bg-color);\n",
              "    fill: var(--disabled-fill-color);\n",
              "    box-shadow: none;\n",
              "  }\n",
              "\n",
              "  .colab-df-spinner {\n",
              "    border: 2px solid var(--fill-color);\n",
              "    border-color: transparent;\n",
              "    border-bottom-color: var(--fill-color);\n",
              "    animation:\n",
              "      spin 1s steps(1) infinite;\n",
              "  }\n",
              "\n",
              "  @keyframes spin {\n",
              "    0% {\n",
              "      border-color: transparent;\n",
              "      border-bottom-color: var(--fill-color);\n",
              "      border-left-color: var(--fill-color);\n",
              "    }\n",
              "    20% {\n",
              "      border-color: transparent;\n",
              "      border-left-color: var(--fill-color);\n",
              "      border-top-color: var(--fill-color);\n",
              "    }\n",
              "    30% {\n",
              "      border-color: transparent;\n",
              "      border-left-color: var(--fill-color);\n",
              "      border-top-color: var(--fill-color);\n",
              "      border-right-color: var(--fill-color);\n",
              "    }\n",
              "    40% {\n",
              "      border-color: transparent;\n",
              "      border-right-color: var(--fill-color);\n",
              "      border-top-color: var(--fill-color);\n",
              "    }\n",
              "    60% {\n",
              "      border-color: transparent;\n",
              "      border-right-color: var(--fill-color);\n",
              "    }\n",
              "    80% {\n",
              "      border-color: transparent;\n",
              "      border-right-color: var(--fill-color);\n",
              "      border-bottom-color: var(--fill-color);\n",
              "    }\n",
              "    90% {\n",
              "      border-color: transparent;\n",
              "      border-bottom-color: var(--fill-color);\n",
              "    }\n",
              "  }\n",
              "</style>\n",
              "\n",
              "  <script>\n",
              "    async function quickchart(key) {\n",
              "      const quickchartButtonEl =\n",
              "        document.querySelector('#' + key + ' button');\n",
              "      quickchartButtonEl.disabled = true;  // To prevent multiple clicks.\n",
              "      quickchartButtonEl.classList.add('colab-df-spinner');\n",
              "      try {\n",
              "        const charts = await google.colab.kernel.invokeFunction(\n",
              "            'suggestCharts', [key], {});\n",
              "      } catch (error) {\n",
              "        console.error('Error during call to suggestCharts:', error);\n",
              "      }\n",
              "      quickchartButtonEl.classList.remove('colab-df-spinner');\n",
              "      quickchartButtonEl.classList.add('colab-df-quickchart-complete');\n",
              "    }\n",
              "    (() => {\n",
              "      let quickchartButtonEl =\n",
              "        document.querySelector('#df-a39e8760-b320-47c5-b75b-8b1baf3ba39f button');\n",
              "      quickchartButtonEl.style.display =\n",
              "        google.colab.kernel.accessAllowed ? 'block' : 'none';\n",
              "    })();\n",
              "  </script>\n",
              "</div>\n",
              "\n",
              "    </div>\n",
              "  </div>\n"
            ],
            "application/vnd.google.colaboratory.intrinsic+json": {
              "type": "dataframe",
              "variable_name": "data",
              "summary": "{\n  \"name\": \"data\",\n  \"rows\": 40000,\n  \"fields\": [\n    {\n      \"column\": \"tweet_id\",\n      \"properties\": {\n        \"dtype\": \"number\",\n        \"std\": 118857896,\n        \"min\": 1693956175,\n        \"max\": 1966441171,\n        \"num_unique_values\": 40000,\n        \"samples\": [\n          1752414968,\n          1965295852,\n          1696219218\n        ],\n        \"semantic_type\": \"\",\n        \"description\": \"\"\n      }\n    },\n    {\n      \"column\": \"sentiment\",\n      \"properties\": {\n        \"dtype\": \"category\",\n        \"num_unique_values\": 13,\n        \"samples\": [\n          \"relief\",\n          \"happiness\",\n          \"empty\"\n        ],\n        \"semantic_type\": \"\",\n        \"description\": \"\"\n      }\n    },\n    {\n      \"column\": \"content\",\n      \"properties\": {\n        \"dtype\": \"string\",\n        \"num_unique_values\": 39656,\n        \"samples\": [\n          \"got a new prom dress\",\n          \"ok time to head into urban outfitters to see what catches my eye then head home since this rain is hindering any more pics for the day\",\n          \"leopardqueen seekinspiration have fun i miss you guys a lot\"\n        ],\n        \"semantic_type\": \"\",\n        \"description\": \"\"\n      }\n    }\n  ]\n}"
            }
          },
          "metadata": {},
          "execution_count": 28
        }
      ]
    },
    {
      "cell_type": "code",
      "source": [
        "#removing stopwords"
      ],
      "metadata": {
        "id": "Ec97A4vYLozw"
      },
      "execution_count": 29,
      "outputs": []
    },
    {
      "cell_type": "code",
      "source": [
        "import nltk"
      ],
      "metadata": {
        "id": "6gBz3qZNL9al"
      },
      "execution_count": 30,
      "outputs": []
    },
    {
      "cell_type": "code",
      "source": [
        "nltk.download('stopwords')"
      ],
      "metadata": {
        "colab": {
          "base_uri": "https://localhost:8080/"
        },
        "id": "ytgv6YRqMUTS",
        "outputId": "ad72003b-2f3c-4eed-d8c6-97d29dae9aec"
      },
      "execution_count": 31,
      "outputs": [
        {
          "output_type": "stream",
          "name": "stderr",
          "text": [
            "[nltk_data] Downloading package stopwords to /root/nltk_data...\n",
            "[nltk_data]   Package stopwords is already up-to-date!\n"
          ]
        },
        {
          "output_type": "execute_result",
          "data": {
            "text/plain": [
              "True"
            ]
          },
          "metadata": {},
          "execution_count": 31
        }
      ]
    },
    {
      "cell_type": "code",
      "source": [
        "from nltk.corpus import stopwords"
      ],
      "metadata": {
        "id": "cec4qvgiMfOx"
      },
      "execution_count": 32,
      "outputs": []
    },
    {
      "cell_type": "code",
      "source": [
        "s_list = stopwords.words('english')"
      ],
      "metadata": {
        "id": "S2miMoWzMjn0"
      },
      "execution_count": 33,
      "outputs": []
    },
    {
      "cell_type": "code",
      "source": [
        "data['content']"
      ],
      "metadata": {
        "colab": {
          "base_uri": "https://localhost:8080/"
        },
        "id": "bK80HtyEN2Tu",
        "outputId": "e7ba6486-e711-4861-bb29-eb7dd31b2511"
      },
      "execution_count": 34,
      "outputs": [
        {
          "output_type": "execute_result",
          "data": {
            "text/plain": [
              "0        tiffanylue i know  i was listenin to bad habit...\n",
              "1        layin n bed with a headache  ughhhhwaitin on y...\n",
              "2                            funeral ceremonygloomy friday\n",
              "3                      wants to hang out with friends soon\n",
              "4        dannycastillo we want to trade with someone wh...\n",
              "                               ...                        \n",
              "39995                                      johnlloydtaylor\n",
              "39996                       happy mothers day  all my love\n",
              "39997    happy mothers day to all the mommies out there...\n",
              "39998    niariley wassup beautiful follow me  peep out ...\n",
              "39999    mopedronin bullet train from tokyo    the gf a...\n",
              "Name: content, Length: 40000, dtype: object"
            ]
          },
          "metadata": {},
          "execution_count": 34
        }
      ]
    },
    {
      "cell_type": "code",
      "source": [
        "data['content'] = data['content'].apply(lambda x: [item for item in x.split() if item not in s_list]).apply(lambda x:\" \".join(x))"
      ],
      "metadata": {
        "id": "CY4jrvO0N5DW"
      },
      "execution_count": 35,
      "outputs": []
    },
    {
      "cell_type": "code",
      "source": [
        "data['content']"
      ],
      "metadata": {
        "colab": {
          "base_uri": "https://localhost:8080/"
        },
        "id": "_PGaIxrVRAJj",
        "outputId": "89f0ac4c-d48b-41c9-d763-153950972d60"
      },
      "execution_count": 36,
      "outputs": [
        {
          "output_type": "execute_result",
          "data": {
            "text/plain": [
              "0        tiffanylue know listenin bad habit earlier sta...\n",
              "1                   layin n bed headache ughhhhwaitin call\n",
              "2                            funeral ceremonygloomy friday\n",
              "3                                  wants hang friends soon\n",
              "4        dannycastillo want trade someone houston ticke...\n",
              "                               ...                        \n",
              "39995                                      johnlloydtaylor\n",
              "39996                               happy mothers day love\n",
              "39997    happy mothers day mommies woman man long youre...\n",
              "39998    niariley wassup beautiful follow peep new hit ...\n",
              "39999    mopedronin bullet train tokyo gf visiting japa...\n",
              "Name: content, Length: 40000, dtype: object"
            ]
          },
          "metadata": {},
          "execution_count": 36
        }
      ]
    },
    {
      "cell_type": "code",
      "source": [
        "import nltk\n",
        "nltk.download('wordnet')"
      ],
      "metadata": {
        "colab": {
          "base_uri": "https://localhost:8080/"
        },
        "id": "7ag1yoBQVzPL",
        "outputId": "58a875ad-4602-4a4b-94a3-e82681c6ce00"
      },
      "execution_count": 37,
      "outputs": [
        {
          "output_type": "stream",
          "name": "stderr",
          "text": [
            "[nltk_data] Downloading package wordnet to /root/nltk_data...\n",
            "[nltk_data]   Package wordnet is already up-to-date!\n"
          ]
        },
        {
          "output_type": "execute_result",
          "data": {
            "text/plain": [
              "True"
            ]
          },
          "metadata": {},
          "execution_count": 37
        }
      ]
    },
    {
      "cell_type": "code",
      "source": [
        "from nltk.stem import WordNetLemmatizer\n",
        "\n",
        "lemma = WordNetLemmatizer()\n",
        "def lemmatize_words(text):\n",
        "    return \" \".join([lemma.lemmatize(word) for word in text.split()])\n",
        "\n",
        "data[\"content\"] = data[\"content\"].apply(lambda text: lemmatize_words(text))"
      ],
      "metadata": {
        "id": "a-zEQHchVw9R"
      },
      "execution_count": 38,
      "outputs": []
    },
    {
      "cell_type": "code",
      "source": [
        "data['content']"
      ],
      "metadata": {
        "colab": {
          "base_uri": "https://localhost:8080/"
        },
        "id": "hJIJSH2sWGVn",
        "outputId": "377556df-4f9d-4b11-fcad-fd44e33ca47b"
      },
      "execution_count": 39,
      "outputs": [
        {
          "output_type": "execute_result",
          "data": {
            "text/plain": [
              "0        tiffanylue know listenin bad habit earlier sta...\n",
              "1                   layin n bed headache ughhhhwaitin call\n",
              "2                            funeral ceremonygloomy friday\n",
              "3                                    want hang friend soon\n",
              "4        dannycastillo want trade someone houston ticke...\n",
              "                               ...                        \n",
              "39995                                      johnlloydtaylor\n",
              "39996                                happy mother day love\n",
              "39997    happy mother day mommy woman man long youre mo...\n",
              "39998    niariley wassup beautiful follow peep new hit ...\n",
              "39999    mopedronin bullet train tokyo gf visiting japa...\n",
              "Name: content, Length: 40000, dtype: object"
            ]
          },
          "metadata": {},
          "execution_count": 39
        }
      ]
    },
    {
      "cell_type": "code",
      "source": [
        "data.head()"
      ],
      "metadata": {
        "colab": {
          "base_uri": "https://localhost:8080/",
          "height": 206
        },
        "id": "xZqmy1w8WKN7",
        "outputId": "d3d4fdf9-7324-49fd-f039-aaf8674b30bc"
      },
      "execution_count": 40,
      "outputs": [
        {
          "output_type": "execute_result",
          "data": {
            "text/plain": [
              "     tweet_id   sentiment                                            content\n",
              "0  1956967341       empty  tiffanylue know listenin bad habit earlier sta...\n",
              "1  1956967666     sadness             layin n bed headache ughhhhwaitin call\n",
              "2  1956967696     sadness                      funeral ceremonygloomy friday\n",
              "3  1956967789  enthusiasm                              want hang friend soon\n",
              "4  1956968416     neutral  dannycastillo want trade someone houston ticke..."
            ],
            "text/html": [
              "\n",
              "  <div id=\"df-f4c3ae1e-2ccb-4ed6-b3c0-dfe1cd53f3f1\" class=\"colab-df-container\">\n",
              "    <div>\n",
              "<style scoped>\n",
              "    .dataframe tbody tr th:only-of-type {\n",
              "        vertical-align: middle;\n",
              "    }\n",
              "\n",
              "    .dataframe tbody tr th {\n",
              "        vertical-align: top;\n",
              "    }\n",
              "\n",
              "    .dataframe thead th {\n",
              "        text-align: right;\n",
              "    }\n",
              "</style>\n",
              "<table border=\"1\" class=\"dataframe\">\n",
              "  <thead>\n",
              "    <tr style=\"text-align: right;\">\n",
              "      <th></th>\n",
              "      <th>tweet_id</th>\n",
              "      <th>sentiment</th>\n",
              "      <th>content</th>\n",
              "    </tr>\n",
              "  </thead>\n",
              "  <tbody>\n",
              "    <tr>\n",
              "      <th>0</th>\n",
              "      <td>1956967341</td>\n",
              "      <td>empty</td>\n",
              "      <td>tiffanylue know listenin bad habit earlier sta...</td>\n",
              "    </tr>\n",
              "    <tr>\n",
              "      <th>1</th>\n",
              "      <td>1956967666</td>\n",
              "      <td>sadness</td>\n",
              "      <td>layin n bed headache ughhhhwaitin call</td>\n",
              "    </tr>\n",
              "    <tr>\n",
              "      <th>2</th>\n",
              "      <td>1956967696</td>\n",
              "      <td>sadness</td>\n",
              "      <td>funeral ceremonygloomy friday</td>\n",
              "    </tr>\n",
              "    <tr>\n",
              "      <th>3</th>\n",
              "      <td>1956967789</td>\n",
              "      <td>enthusiasm</td>\n",
              "      <td>want hang friend soon</td>\n",
              "    </tr>\n",
              "    <tr>\n",
              "      <th>4</th>\n",
              "      <td>1956968416</td>\n",
              "      <td>neutral</td>\n",
              "      <td>dannycastillo want trade someone houston ticke...</td>\n",
              "    </tr>\n",
              "  </tbody>\n",
              "</table>\n",
              "</div>\n",
              "    <div class=\"colab-df-buttons\">\n",
              "\n",
              "  <div class=\"colab-df-container\">\n",
              "    <button class=\"colab-df-convert\" onclick=\"convertToInteractive('df-f4c3ae1e-2ccb-4ed6-b3c0-dfe1cd53f3f1')\"\n",
              "            title=\"Convert this dataframe to an interactive table.\"\n",
              "            style=\"display:none;\">\n",
              "\n",
              "  <svg xmlns=\"http://www.w3.org/2000/svg\" height=\"24px\" viewBox=\"0 -960 960 960\">\n",
              "    <path d=\"M120-120v-720h720v720H120Zm60-500h600v-160H180v160Zm220 220h160v-160H400v160Zm0 220h160v-160H400v160ZM180-400h160v-160H180v160Zm440 0h160v-160H620v160ZM180-180h160v-160H180v160Zm440 0h160v-160H620v160Z\"/>\n",
              "  </svg>\n",
              "    </button>\n",
              "\n",
              "  <style>\n",
              "    .colab-df-container {\n",
              "      display:flex;\n",
              "      gap: 12px;\n",
              "    }\n",
              "\n",
              "    .colab-df-convert {\n",
              "      background-color: #E8F0FE;\n",
              "      border: none;\n",
              "      border-radius: 50%;\n",
              "      cursor: pointer;\n",
              "      display: none;\n",
              "      fill: #1967D2;\n",
              "      height: 32px;\n",
              "      padding: 0 0 0 0;\n",
              "      width: 32px;\n",
              "    }\n",
              "\n",
              "    .colab-df-convert:hover {\n",
              "      background-color: #E2EBFA;\n",
              "      box-shadow: 0px 1px 2px rgba(60, 64, 67, 0.3), 0px 1px 3px 1px rgba(60, 64, 67, 0.15);\n",
              "      fill: #174EA6;\n",
              "    }\n",
              "\n",
              "    .colab-df-buttons div {\n",
              "      margin-bottom: 4px;\n",
              "    }\n",
              "\n",
              "    [theme=dark] .colab-df-convert {\n",
              "      background-color: #3B4455;\n",
              "      fill: #D2E3FC;\n",
              "    }\n",
              "\n",
              "    [theme=dark] .colab-df-convert:hover {\n",
              "      background-color: #434B5C;\n",
              "      box-shadow: 0px 1px 3px 1px rgba(0, 0, 0, 0.15);\n",
              "      filter: drop-shadow(0px 1px 2px rgba(0, 0, 0, 0.3));\n",
              "      fill: #FFFFFF;\n",
              "    }\n",
              "  </style>\n",
              "\n",
              "    <script>\n",
              "      const buttonEl =\n",
              "        document.querySelector('#df-f4c3ae1e-2ccb-4ed6-b3c0-dfe1cd53f3f1 button.colab-df-convert');\n",
              "      buttonEl.style.display =\n",
              "        google.colab.kernel.accessAllowed ? 'block' : 'none';\n",
              "\n",
              "      async function convertToInteractive(key) {\n",
              "        const element = document.querySelector('#df-f4c3ae1e-2ccb-4ed6-b3c0-dfe1cd53f3f1');\n",
              "        const dataTable =\n",
              "          await google.colab.kernel.invokeFunction('convertToInteractive',\n",
              "                                                    [key], {});\n",
              "        if (!dataTable) return;\n",
              "\n",
              "        const docLinkHtml = 'Like what you see? Visit the ' +\n",
              "          '<a target=\"_blank\" href=https://colab.research.google.com/notebooks/data_table.ipynb>data table notebook</a>'\n",
              "          + ' to learn more about interactive tables.';\n",
              "        element.innerHTML = '';\n",
              "        dataTable['output_type'] = 'display_data';\n",
              "        await google.colab.output.renderOutput(dataTable, element);\n",
              "        const docLink = document.createElement('div');\n",
              "        docLink.innerHTML = docLinkHtml;\n",
              "        element.appendChild(docLink);\n",
              "      }\n",
              "    </script>\n",
              "  </div>\n",
              "\n",
              "\n",
              "<div id=\"df-c63d08da-739f-440b-a304-5dd4eb5781f7\">\n",
              "  <button class=\"colab-df-quickchart\" onclick=\"quickchart('df-c63d08da-739f-440b-a304-5dd4eb5781f7')\"\n",
              "            title=\"Suggest charts\"\n",
              "            style=\"display:none;\">\n",
              "\n",
              "<svg xmlns=\"http://www.w3.org/2000/svg\" height=\"24px\"viewBox=\"0 0 24 24\"\n",
              "     width=\"24px\">\n",
              "    <g>\n",
              "        <path d=\"M19 3H5c-1.1 0-2 .9-2 2v14c0 1.1.9 2 2 2h14c1.1 0 2-.9 2-2V5c0-1.1-.9-2-2-2zM9 17H7v-7h2v7zm4 0h-2V7h2v10zm4 0h-2v-4h2v4z\"/>\n",
              "    </g>\n",
              "</svg>\n",
              "  </button>\n",
              "\n",
              "<style>\n",
              "  .colab-df-quickchart {\n",
              "      --bg-color: #E8F0FE;\n",
              "      --fill-color: #1967D2;\n",
              "      --hover-bg-color: #E2EBFA;\n",
              "      --hover-fill-color: #174EA6;\n",
              "      --disabled-fill-color: #AAA;\n",
              "      --disabled-bg-color: #DDD;\n",
              "  }\n",
              "\n",
              "  [theme=dark] .colab-df-quickchart {\n",
              "      --bg-color: #3B4455;\n",
              "      --fill-color: #D2E3FC;\n",
              "      --hover-bg-color: #434B5C;\n",
              "      --hover-fill-color: #FFFFFF;\n",
              "      --disabled-bg-color: #3B4455;\n",
              "      --disabled-fill-color: #666;\n",
              "  }\n",
              "\n",
              "  .colab-df-quickchart {\n",
              "    background-color: var(--bg-color);\n",
              "    border: none;\n",
              "    border-radius: 50%;\n",
              "    cursor: pointer;\n",
              "    display: none;\n",
              "    fill: var(--fill-color);\n",
              "    height: 32px;\n",
              "    padding: 0;\n",
              "    width: 32px;\n",
              "  }\n",
              "\n",
              "  .colab-df-quickchart:hover {\n",
              "    background-color: var(--hover-bg-color);\n",
              "    box-shadow: 0 1px 2px rgba(60, 64, 67, 0.3), 0 1px 3px 1px rgba(60, 64, 67, 0.15);\n",
              "    fill: var(--button-hover-fill-color);\n",
              "  }\n",
              "\n",
              "  .colab-df-quickchart-complete:disabled,\n",
              "  .colab-df-quickchart-complete:disabled:hover {\n",
              "    background-color: var(--disabled-bg-color);\n",
              "    fill: var(--disabled-fill-color);\n",
              "    box-shadow: none;\n",
              "  }\n",
              "\n",
              "  .colab-df-spinner {\n",
              "    border: 2px solid var(--fill-color);\n",
              "    border-color: transparent;\n",
              "    border-bottom-color: var(--fill-color);\n",
              "    animation:\n",
              "      spin 1s steps(1) infinite;\n",
              "  }\n",
              "\n",
              "  @keyframes spin {\n",
              "    0% {\n",
              "      border-color: transparent;\n",
              "      border-bottom-color: var(--fill-color);\n",
              "      border-left-color: var(--fill-color);\n",
              "    }\n",
              "    20% {\n",
              "      border-color: transparent;\n",
              "      border-left-color: var(--fill-color);\n",
              "      border-top-color: var(--fill-color);\n",
              "    }\n",
              "    30% {\n",
              "      border-color: transparent;\n",
              "      border-left-color: var(--fill-color);\n",
              "      border-top-color: var(--fill-color);\n",
              "      border-right-color: var(--fill-color);\n",
              "    }\n",
              "    40% {\n",
              "      border-color: transparent;\n",
              "      border-right-color: var(--fill-color);\n",
              "      border-top-color: var(--fill-color);\n",
              "    }\n",
              "    60% {\n",
              "      border-color: transparent;\n",
              "      border-right-color: var(--fill-color);\n",
              "    }\n",
              "    80% {\n",
              "      border-color: transparent;\n",
              "      border-right-color: var(--fill-color);\n",
              "      border-bottom-color: var(--fill-color);\n",
              "    }\n",
              "    90% {\n",
              "      border-color: transparent;\n",
              "      border-bottom-color: var(--fill-color);\n",
              "    }\n",
              "  }\n",
              "</style>\n",
              "\n",
              "  <script>\n",
              "    async function quickchart(key) {\n",
              "      const quickchartButtonEl =\n",
              "        document.querySelector('#' + key + ' button');\n",
              "      quickchartButtonEl.disabled = true;  // To prevent multiple clicks.\n",
              "      quickchartButtonEl.classList.add('colab-df-spinner');\n",
              "      try {\n",
              "        const charts = await google.colab.kernel.invokeFunction(\n",
              "            'suggestCharts', [key], {});\n",
              "      } catch (error) {\n",
              "        console.error('Error during call to suggestCharts:', error);\n",
              "      }\n",
              "      quickchartButtonEl.classList.remove('colab-df-spinner');\n",
              "      quickchartButtonEl.classList.add('colab-df-quickchart-complete');\n",
              "    }\n",
              "    (() => {\n",
              "      let quickchartButtonEl =\n",
              "        document.querySelector('#df-c63d08da-739f-440b-a304-5dd4eb5781f7 button');\n",
              "      quickchartButtonEl.style.display =\n",
              "        google.colab.kernel.accessAllowed ? 'block' : 'none';\n",
              "    })();\n",
              "  </script>\n",
              "</div>\n",
              "\n",
              "    </div>\n",
              "  </div>\n"
            ],
            "application/vnd.google.colaboratory.intrinsic+json": {
              "type": "dataframe",
              "variable_name": "data",
              "summary": "{\n  \"name\": \"data\",\n  \"rows\": 40000,\n  \"fields\": [\n    {\n      \"column\": \"tweet_id\",\n      \"properties\": {\n        \"dtype\": \"number\",\n        \"std\": 118857896,\n        \"min\": 1693956175,\n        \"max\": 1966441171,\n        \"num_unique_values\": 40000,\n        \"samples\": [\n          1752414968,\n          1965295852,\n          1696219218\n        ],\n        \"semantic_type\": \"\",\n        \"description\": \"\"\n      }\n    },\n    {\n      \"column\": \"sentiment\",\n      \"properties\": {\n        \"dtype\": \"category\",\n        \"num_unique_values\": 13,\n        \"samples\": [\n          \"relief\",\n          \"happiness\",\n          \"empty\"\n        ],\n        \"semantic_type\": \"\",\n        \"description\": \"\"\n      }\n    },\n    {\n      \"column\": \"content\",\n      \"properties\": {\n        \"dtype\": \"string\",\n        \"num_unique_values\": 39432,\n        \"samples\": [\n          \"mrdix ugly programme open\",\n          \"anthony prom\",\n          \"thanks ranukka im twitter\"\n        ],\n        \"semantic_type\": \"\",\n        \"description\": \"\"\n      }\n    }\n  ]\n}"
            }
          },
          "metadata": {},
          "execution_count": 40
        }
      ]
    },
    {
      "cell_type": "code",
      "source": [
        "#Feature Extraction"
      ],
      "metadata": {
        "id": "j0Ts86v1SsBq"
      },
      "execution_count": 41,
      "outputs": []
    },
    {
      "cell_type": "code",
      "source": [
        "x = data.iloc[:,:]"
      ],
      "metadata": {
        "id": "Y1YB7zb5Vp7d"
      },
      "execution_count": 42,
      "outputs": []
    },
    {
      "cell_type": "code",
      "source": [
        "x.head()"
      ],
      "metadata": {
        "colab": {
          "base_uri": "https://localhost:8080/",
          "height": 206
        },
        "id": "fU7czM9kWPLk",
        "outputId": "3f7ea607-48e6-42a7-89db-f1bbb6caf426"
      },
      "execution_count": 43,
      "outputs": [
        {
          "output_type": "execute_result",
          "data": {
            "text/plain": [
              "     tweet_id   sentiment                                            content\n",
              "0  1956967341       empty  tiffanylue know listenin bad habit earlier sta...\n",
              "1  1956967666     sadness             layin n bed headache ughhhhwaitin call\n",
              "2  1956967696     sadness                      funeral ceremonygloomy friday\n",
              "3  1956967789  enthusiasm                              want hang friend soon\n",
              "4  1956968416     neutral  dannycastillo want trade someone houston ticke..."
            ],
            "text/html": [
              "\n",
              "  <div id=\"df-bf2969e3-cebb-49fb-8745-c8ee10cabf6b\" class=\"colab-df-container\">\n",
              "    <div>\n",
              "<style scoped>\n",
              "    .dataframe tbody tr th:only-of-type {\n",
              "        vertical-align: middle;\n",
              "    }\n",
              "\n",
              "    .dataframe tbody tr th {\n",
              "        vertical-align: top;\n",
              "    }\n",
              "\n",
              "    .dataframe thead th {\n",
              "        text-align: right;\n",
              "    }\n",
              "</style>\n",
              "<table border=\"1\" class=\"dataframe\">\n",
              "  <thead>\n",
              "    <tr style=\"text-align: right;\">\n",
              "      <th></th>\n",
              "      <th>tweet_id</th>\n",
              "      <th>sentiment</th>\n",
              "      <th>content</th>\n",
              "    </tr>\n",
              "  </thead>\n",
              "  <tbody>\n",
              "    <tr>\n",
              "      <th>0</th>\n",
              "      <td>1956967341</td>\n",
              "      <td>empty</td>\n",
              "      <td>tiffanylue know listenin bad habit earlier sta...</td>\n",
              "    </tr>\n",
              "    <tr>\n",
              "      <th>1</th>\n",
              "      <td>1956967666</td>\n",
              "      <td>sadness</td>\n",
              "      <td>layin n bed headache ughhhhwaitin call</td>\n",
              "    </tr>\n",
              "    <tr>\n",
              "      <th>2</th>\n",
              "      <td>1956967696</td>\n",
              "      <td>sadness</td>\n",
              "      <td>funeral ceremonygloomy friday</td>\n",
              "    </tr>\n",
              "    <tr>\n",
              "      <th>3</th>\n",
              "      <td>1956967789</td>\n",
              "      <td>enthusiasm</td>\n",
              "      <td>want hang friend soon</td>\n",
              "    </tr>\n",
              "    <tr>\n",
              "      <th>4</th>\n",
              "      <td>1956968416</td>\n",
              "      <td>neutral</td>\n",
              "      <td>dannycastillo want trade someone houston ticke...</td>\n",
              "    </tr>\n",
              "  </tbody>\n",
              "</table>\n",
              "</div>\n",
              "    <div class=\"colab-df-buttons\">\n",
              "\n",
              "  <div class=\"colab-df-container\">\n",
              "    <button class=\"colab-df-convert\" onclick=\"convertToInteractive('df-bf2969e3-cebb-49fb-8745-c8ee10cabf6b')\"\n",
              "            title=\"Convert this dataframe to an interactive table.\"\n",
              "            style=\"display:none;\">\n",
              "\n",
              "  <svg xmlns=\"http://www.w3.org/2000/svg\" height=\"24px\" viewBox=\"0 -960 960 960\">\n",
              "    <path d=\"M120-120v-720h720v720H120Zm60-500h600v-160H180v160Zm220 220h160v-160H400v160Zm0 220h160v-160H400v160ZM180-400h160v-160H180v160Zm440 0h160v-160H620v160ZM180-180h160v-160H180v160Zm440 0h160v-160H620v160Z\"/>\n",
              "  </svg>\n",
              "    </button>\n",
              "\n",
              "  <style>\n",
              "    .colab-df-container {\n",
              "      display:flex;\n",
              "      gap: 12px;\n",
              "    }\n",
              "\n",
              "    .colab-df-convert {\n",
              "      background-color: #E8F0FE;\n",
              "      border: none;\n",
              "      border-radius: 50%;\n",
              "      cursor: pointer;\n",
              "      display: none;\n",
              "      fill: #1967D2;\n",
              "      height: 32px;\n",
              "      padding: 0 0 0 0;\n",
              "      width: 32px;\n",
              "    }\n",
              "\n",
              "    .colab-df-convert:hover {\n",
              "      background-color: #E2EBFA;\n",
              "      box-shadow: 0px 1px 2px rgba(60, 64, 67, 0.3), 0px 1px 3px 1px rgba(60, 64, 67, 0.15);\n",
              "      fill: #174EA6;\n",
              "    }\n",
              "\n",
              "    .colab-df-buttons div {\n",
              "      margin-bottom: 4px;\n",
              "    }\n",
              "\n",
              "    [theme=dark] .colab-df-convert {\n",
              "      background-color: #3B4455;\n",
              "      fill: #D2E3FC;\n",
              "    }\n",
              "\n",
              "    [theme=dark] .colab-df-convert:hover {\n",
              "      background-color: #434B5C;\n",
              "      box-shadow: 0px 1px 3px 1px rgba(0, 0, 0, 0.15);\n",
              "      filter: drop-shadow(0px 1px 2px rgba(0, 0, 0, 0.3));\n",
              "      fill: #FFFFFF;\n",
              "    }\n",
              "  </style>\n",
              "\n",
              "    <script>\n",
              "      const buttonEl =\n",
              "        document.querySelector('#df-bf2969e3-cebb-49fb-8745-c8ee10cabf6b button.colab-df-convert');\n",
              "      buttonEl.style.display =\n",
              "        google.colab.kernel.accessAllowed ? 'block' : 'none';\n",
              "\n",
              "      async function convertToInteractive(key) {\n",
              "        const element = document.querySelector('#df-bf2969e3-cebb-49fb-8745-c8ee10cabf6b');\n",
              "        const dataTable =\n",
              "          await google.colab.kernel.invokeFunction('convertToInteractive',\n",
              "                                                    [key], {});\n",
              "        if (!dataTable) return;\n",
              "\n",
              "        const docLinkHtml = 'Like what you see? Visit the ' +\n",
              "          '<a target=\"_blank\" href=https://colab.research.google.com/notebooks/data_table.ipynb>data table notebook</a>'\n",
              "          + ' to learn more about interactive tables.';\n",
              "        element.innerHTML = '';\n",
              "        dataTable['output_type'] = 'display_data';\n",
              "        await google.colab.output.renderOutput(dataTable, element);\n",
              "        const docLink = document.createElement('div');\n",
              "        docLink.innerHTML = docLinkHtml;\n",
              "        element.appendChild(docLink);\n",
              "      }\n",
              "    </script>\n",
              "  </div>\n",
              "\n",
              "\n",
              "<div id=\"df-6eb6e424-1d8d-4201-8af3-6bd098a3976d\">\n",
              "  <button class=\"colab-df-quickchart\" onclick=\"quickchart('df-6eb6e424-1d8d-4201-8af3-6bd098a3976d')\"\n",
              "            title=\"Suggest charts\"\n",
              "            style=\"display:none;\">\n",
              "\n",
              "<svg xmlns=\"http://www.w3.org/2000/svg\" height=\"24px\"viewBox=\"0 0 24 24\"\n",
              "     width=\"24px\">\n",
              "    <g>\n",
              "        <path d=\"M19 3H5c-1.1 0-2 .9-2 2v14c0 1.1.9 2 2 2h14c1.1 0 2-.9 2-2V5c0-1.1-.9-2-2-2zM9 17H7v-7h2v7zm4 0h-2V7h2v10zm4 0h-2v-4h2v4z\"/>\n",
              "    </g>\n",
              "</svg>\n",
              "  </button>\n",
              "\n",
              "<style>\n",
              "  .colab-df-quickchart {\n",
              "      --bg-color: #E8F0FE;\n",
              "      --fill-color: #1967D2;\n",
              "      --hover-bg-color: #E2EBFA;\n",
              "      --hover-fill-color: #174EA6;\n",
              "      --disabled-fill-color: #AAA;\n",
              "      --disabled-bg-color: #DDD;\n",
              "  }\n",
              "\n",
              "  [theme=dark] .colab-df-quickchart {\n",
              "      --bg-color: #3B4455;\n",
              "      --fill-color: #D2E3FC;\n",
              "      --hover-bg-color: #434B5C;\n",
              "      --hover-fill-color: #FFFFFF;\n",
              "      --disabled-bg-color: #3B4455;\n",
              "      --disabled-fill-color: #666;\n",
              "  }\n",
              "\n",
              "  .colab-df-quickchart {\n",
              "    background-color: var(--bg-color);\n",
              "    border: none;\n",
              "    border-radius: 50%;\n",
              "    cursor: pointer;\n",
              "    display: none;\n",
              "    fill: var(--fill-color);\n",
              "    height: 32px;\n",
              "    padding: 0;\n",
              "    width: 32px;\n",
              "  }\n",
              "\n",
              "  .colab-df-quickchart:hover {\n",
              "    background-color: var(--hover-bg-color);\n",
              "    box-shadow: 0 1px 2px rgba(60, 64, 67, 0.3), 0 1px 3px 1px rgba(60, 64, 67, 0.15);\n",
              "    fill: var(--button-hover-fill-color);\n",
              "  }\n",
              "\n",
              "  .colab-df-quickchart-complete:disabled,\n",
              "  .colab-df-quickchart-complete:disabled:hover {\n",
              "    background-color: var(--disabled-bg-color);\n",
              "    fill: var(--disabled-fill-color);\n",
              "    box-shadow: none;\n",
              "  }\n",
              "\n",
              "  .colab-df-spinner {\n",
              "    border: 2px solid var(--fill-color);\n",
              "    border-color: transparent;\n",
              "    border-bottom-color: var(--fill-color);\n",
              "    animation:\n",
              "      spin 1s steps(1) infinite;\n",
              "  }\n",
              "\n",
              "  @keyframes spin {\n",
              "    0% {\n",
              "      border-color: transparent;\n",
              "      border-bottom-color: var(--fill-color);\n",
              "      border-left-color: var(--fill-color);\n",
              "    }\n",
              "    20% {\n",
              "      border-color: transparent;\n",
              "      border-left-color: var(--fill-color);\n",
              "      border-top-color: var(--fill-color);\n",
              "    }\n",
              "    30% {\n",
              "      border-color: transparent;\n",
              "      border-left-color: var(--fill-color);\n",
              "      border-top-color: var(--fill-color);\n",
              "      border-right-color: var(--fill-color);\n",
              "    }\n",
              "    40% {\n",
              "      border-color: transparent;\n",
              "      border-right-color: var(--fill-color);\n",
              "      border-top-color: var(--fill-color);\n",
              "    }\n",
              "    60% {\n",
              "      border-color: transparent;\n",
              "      border-right-color: var(--fill-color);\n",
              "    }\n",
              "    80% {\n",
              "      border-color: transparent;\n",
              "      border-right-color: var(--fill-color);\n",
              "      border-bottom-color: var(--fill-color);\n",
              "    }\n",
              "    90% {\n",
              "      border-color: transparent;\n",
              "      border-bottom-color: var(--fill-color);\n",
              "    }\n",
              "  }\n",
              "</style>\n",
              "\n",
              "  <script>\n",
              "    async function quickchart(key) {\n",
              "      const quickchartButtonEl =\n",
              "        document.querySelector('#' + key + ' button');\n",
              "      quickchartButtonEl.disabled = true;  // To prevent multiple clicks.\n",
              "      quickchartButtonEl.classList.add('colab-df-spinner');\n",
              "      try {\n",
              "        const charts = await google.colab.kernel.invokeFunction(\n",
              "            'suggestCharts', [key], {});\n",
              "      } catch (error) {\n",
              "        console.error('Error during call to suggestCharts:', error);\n",
              "      }\n",
              "      quickchartButtonEl.classList.remove('colab-df-spinner');\n",
              "      quickchartButtonEl.classList.add('colab-df-quickchart-complete');\n",
              "    }\n",
              "    (() => {\n",
              "      let quickchartButtonEl =\n",
              "        document.querySelector('#df-6eb6e424-1d8d-4201-8af3-6bd098a3976d button');\n",
              "      quickchartButtonEl.style.display =\n",
              "        google.colab.kernel.accessAllowed ? 'block' : 'none';\n",
              "    })();\n",
              "  </script>\n",
              "</div>\n",
              "\n",
              "    </div>\n",
              "  </div>\n"
            ],
            "application/vnd.google.colaboratory.intrinsic+json": {
              "type": "dataframe",
              "variable_name": "x",
              "summary": "{\n  \"name\": \"x\",\n  \"rows\": 40000,\n  \"fields\": [\n    {\n      \"column\": \"tweet_id\",\n      \"properties\": {\n        \"dtype\": \"number\",\n        \"std\": 118857896,\n        \"min\": 1693956175,\n        \"max\": 1966441171,\n        \"num_unique_values\": 40000,\n        \"samples\": [\n          1752414968,\n          1965295852,\n          1696219218\n        ],\n        \"semantic_type\": \"\",\n        \"description\": \"\"\n      }\n    },\n    {\n      \"column\": \"sentiment\",\n      \"properties\": {\n        \"dtype\": \"category\",\n        \"num_unique_values\": 13,\n        \"samples\": [\n          \"relief\",\n          \"happiness\",\n          \"empty\"\n        ],\n        \"semantic_type\": \"\",\n        \"description\": \"\"\n      }\n    },\n    {\n      \"column\": \"content\",\n      \"properties\": {\n        \"dtype\": \"string\",\n        \"num_unique_values\": 39432,\n        \"samples\": [\n          \"mrdix ugly programme open\",\n          \"anthony prom\",\n          \"thanks ranukka im twitter\"\n        ],\n        \"semantic_type\": \"\",\n        \"description\": \"\"\n      }\n    }\n  ]\n}"
            }
          },
          "metadata": {},
          "execution_count": 43
        }
      ]
    },
    {
      "cell_type": "code",
      "source": [
        "y = data['sentiment']"
      ],
      "metadata": {
        "id": "5TD6bXkaWaid"
      },
      "execution_count": 44,
      "outputs": []
    },
    {
      "cell_type": "code",
      "source": [
        "y.head()"
      ],
      "metadata": {
        "colab": {
          "base_uri": "https://localhost:8080/"
        },
        "id": "HasVCDi0WmtD",
        "outputId": "bf8b4988-4ffc-4847-fa32-2a31861f74bc"
      },
      "execution_count": 45,
      "outputs": [
        {
          "output_type": "execute_result",
          "data": {
            "text/plain": [
              "0         empty\n",
              "1       sadness\n",
              "2       sadness\n",
              "3    enthusiasm\n",
              "4       neutral\n",
              "Name: sentiment, dtype: object"
            ]
          },
          "metadata": {},
          "execution_count": 45
        }
      ]
    },
    {
      "cell_type": "code",
      "source": [
        "from sklearn.model_selection import train_test_split"
      ],
      "metadata": {
        "id": "YTckWqpdYMWq"
      },
      "execution_count": 46,
      "outputs": []
    },
    {
      "cell_type": "code",
      "source": [
        "x_train, x_test , y_train ,y_test = train_test_split(x,y, test_size=0.2, random_state=142)"
      ],
      "metadata": {
        "id": "4Flt3ZmnYvJx"
      },
      "execution_count": 47,
      "outputs": []
    },
    {
      "cell_type": "code",
      "source": [
        "x_train"
      ],
      "metadata": {
        "colab": {
          "base_uri": "https://localhost:8080/",
          "height": 423
        },
        "id": "2bTuNFngZCOn",
        "outputId": "985dfdb8-7959-4a88-dec8-29037533c5bc"
      },
      "execution_count": 48,
      "outputs": [
        {
          "output_type": "execute_result",
          "data": {
            "text/plain": [
              "         tweet_id   sentiment  \\\n",
              "11164  1963131227        hate   \n",
              "14727  1964624766     sadness   \n",
              "10174  1962841213     sadness   \n",
              "23366  1694606711     neutral   \n",
              "2264   1957506331  enthusiasm   \n",
              "...           ...         ...   \n",
              "34384  1752848991     neutral   \n",
              "5146   1960630714     sadness   \n",
              "12799  1963728948   happiness   \n",
              "31131  1751851944       worry   \n",
              "33045  1752476640     neutral   \n",
              "\n",
              "                                                 content  \n",
              "11164  mad hell someone stole pink amp black leapord ...  \n",
              "14727                                 way work im hungry  \n",
              "10174                     qdakid q dont get love anymore  \n",
              "23366  beverleyknight really ur brave lady walkin aro...  \n",
              "2264   well im going try sleep work 9 tomorrow weeken...  \n",
              "...                                                  ...  \n",
              "34384                  davidyoumans happy birthday david  \n",
              "5146                   tanning emily bad prob gonna rain  \n",
              "12799  kiieeeee yaaay u cleaning ur room said hi u da...  \n",
              "31131  andrewgoldstein 11 30 way early anyway nigth n...  \n",
              "33045                   sittting seat watching tyra show  \n",
              "\n",
              "[32000 rows x 3 columns]"
            ],
            "text/html": [
              "\n",
              "  <div id=\"df-0a7dc2c1-b87e-4d36-8acf-2b70288b9c24\" class=\"colab-df-container\">\n",
              "    <div>\n",
              "<style scoped>\n",
              "    .dataframe tbody tr th:only-of-type {\n",
              "        vertical-align: middle;\n",
              "    }\n",
              "\n",
              "    .dataframe tbody tr th {\n",
              "        vertical-align: top;\n",
              "    }\n",
              "\n",
              "    .dataframe thead th {\n",
              "        text-align: right;\n",
              "    }\n",
              "</style>\n",
              "<table border=\"1\" class=\"dataframe\">\n",
              "  <thead>\n",
              "    <tr style=\"text-align: right;\">\n",
              "      <th></th>\n",
              "      <th>tweet_id</th>\n",
              "      <th>sentiment</th>\n",
              "      <th>content</th>\n",
              "    </tr>\n",
              "  </thead>\n",
              "  <tbody>\n",
              "    <tr>\n",
              "      <th>11164</th>\n",
              "      <td>1963131227</td>\n",
              "      <td>hate</td>\n",
              "      <td>mad hell someone stole pink amp black leapord ...</td>\n",
              "    </tr>\n",
              "    <tr>\n",
              "      <th>14727</th>\n",
              "      <td>1964624766</td>\n",
              "      <td>sadness</td>\n",
              "      <td>way work im hungry</td>\n",
              "    </tr>\n",
              "    <tr>\n",
              "      <th>10174</th>\n",
              "      <td>1962841213</td>\n",
              "      <td>sadness</td>\n",
              "      <td>qdakid q dont get love anymore</td>\n",
              "    </tr>\n",
              "    <tr>\n",
              "      <th>23366</th>\n",
              "      <td>1694606711</td>\n",
              "      <td>neutral</td>\n",
              "      <td>beverleyknight really ur brave lady walkin aro...</td>\n",
              "    </tr>\n",
              "    <tr>\n",
              "      <th>2264</th>\n",
              "      <td>1957506331</td>\n",
              "      <td>enthusiasm</td>\n",
              "      <td>well im going try sleep work 9 tomorrow weeken...</td>\n",
              "    </tr>\n",
              "    <tr>\n",
              "      <th>...</th>\n",
              "      <td>...</td>\n",
              "      <td>...</td>\n",
              "      <td>...</td>\n",
              "    </tr>\n",
              "    <tr>\n",
              "      <th>34384</th>\n",
              "      <td>1752848991</td>\n",
              "      <td>neutral</td>\n",
              "      <td>davidyoumans happy birthday david</td>\n",
              "    </tr>\n",
              "    <tr>\n",
              "      <th>5146</th>\n",
              "      <td>1960630714</td>\n",
              "      <td>sadness</td>\n",
              "      <td>tanning emily bad prob gonna rain</td>\n",
              "    </tr>\n",
              "    <tr>\n",
              "      <th>12799</th>\n",
              "      <td>1963728948</td>\n",
              "      <td>happiness</td>\n",
              "      <td>kiieeeee yaaay u cleaning ur room said hi u da...</td>\n",
              "    </tr>\n",
              "    <tr>\n",
              "      <th>31131</th>\n",
              "      <td>1751851944</td>\n",
              "      <td>worry</td>\n",
              "      <td>andrewgoldstein 11 30 way early anyway nigth n...</td>\n",
              "    </tr>\n",
              "    <tr>\n",
              "      <th>33045</th>\n",
              "      <td>1752476640</td>\n",
              "      <td>neutral</td>\n",
              "      <td>sittting seat watching tyra show</td>\n",
              "    </tr>\n",
              "  </tbody>\n",
              "</table>\n",
              "<p>32000 rows × 3 columns</p>\n",
              "</div>\n",
              "    <div class=\"colab-df-buttons\">\n",
              "\n",
              "  <div class=\"colab-df-container\">\n",
              "    <button class=\"colab-df-convert\" onclick=\"convertToInteractive('df-0a7dc2c1-b87e-4d36-8acf-2b70288b9c24')\"\n",
              "            title=\"Convert this dataframe to an interactive table.\"\n",
              "            style=\"display:none;\">\n",
              "\n",
              "  <svg xmlns=\"http://www.w3.org/2000/svg\" height=\"24px\" viewBox=\"0 -960 960 960\">\n",
              "    <path d=\"M120-120v-720h720v720H120Zm60-500h600v-160H180v160Zm220 220h160v-160H400v160Zm0 220h160v-160H400v160ZM180-400h160v-160H180v160Zm440 0h160v-160H620v160ZM180-180h160v-160H180v160Zm440 0h160v-160H620v160Z\"/>\n",
              "  </svg>\n",
              "    </button>\n",
              "\n",
              "  <style>\n",
              "    .colab-df-container {\n",
              "      display:flex;\n",
              "      gap: 12px;\n",
              "    }\n",
              "\n",
              "    .colab-df-convert {\n",
              "      background-color: #E8F0FE;\n",
              "      border: none;\n",
              "      border-radius: 50%;\n",
              "      cursor: pointer;\n",
              "      display: none;\n",
              "      fill: #1967D2;\n",
              "      height: 32px;\n",
              "      padding: 0 0 0 0;\n",
              "      width: 32px;\n",
              "    }\n",
              "\n",
              "    .colab-df-convert:hover {\n",
              "      background-color: #E2EBFA;\n",
              "      box-shadow: 0px 1px 2px rgba(60, 64, 67, 0.3), 0px 1px 3px 1px rgba(60, 64, 67, 0.15);\n",
              "      fill: #174EA6;\n",
              "    }\n",
              "\n",
              "    .colab-df-buttons div {\n",
              "      margin-bottom: 4px;\n",
              "    }\n",
              "\n",
              "    [theme=dark] .colab-df-convert {\n",
              "      background-color: #3B4455;\n",
              "      fill: #D2E3FC;\n",
              "    }\n",
              "\n",
              "    [theme=dark] .colab-df-convert:hover {\n",
              "      background-color: #434B5C;\n",
              "      box-shadow: 0px 1px 3px 1px rgba(0, 0, 0, 0.15);\n",
              "      filter: drop-shadow(0px 1px 2px rgba(0, 0, 0, 0.3));\n",
              "      fill: #FFFFFF;\n",
              "    }\n",
              "  </style>\n",
              "\n",
              "    <script>\n",
              "      const buttonEl =\n",
              "        document.querySelector('#df-0a7dc2c1-b87e-4d36-8acf-2b70288b9c24 button.colab-df-convert');\n",
              "      buttonEl.style.display =\n",
              "        google.colab.kernel.accessAllowed ? 'block' : 'none';\n",
              "\n",
              "      async function convertToInteractive(key) {\n",
              "        const element = document.querySelector('#df-0a7dc2c1-b87e-4d36-8acf-2b70288b9c24');\n",
              "        const dataTable =\n",
              "          await google.colab.kernel.invokeFunction('convertToInteractive',\n",
              "                                                    [key], {});\n",
              "        if (!dataTable) return;\n",
              "\n",
              "        const docLinkHtml = 'Like what you see? Visit the ' +\n",
              "          '<a target=\"_blank\" href=https://colab.research.google.com/notebooks/data_table.ipynb>data table notebook</a>'\n",
              "          + ' to learn more about interactive tables.';\n",
              "        element.innerHTML = '';\n",
              "        dataTable['output_type'] = 'display_data';\n",
              "        await google.colab.output.renderOutput(dataTable, element);\n",
              "        const docLink = document.createElement('div');\n",
              "        docLink.innerHTML = docLinkHtml;\n",
              "        element.appendChild(docLink);\n",
              "      }\n",
              "    </script>\n",
              "  </div>\n",
              "\n",
              "\n",
              "<div id=\"df-5f24cad3-783e-405e-85c5-4d5dccf5beed\">\n",
              "  <button class=\"colab-df-quickchart\" onclick=\"quickchart('df-5f24cad3-783e-405e-85c5-4d5dccf5beed')\"\n",
              "            title=\"Suggest charts\"\n",
              "            style=\"display:none;\">\n",
              "\n",
              "<svg xmlns=\"http://www.w3.org/2000/svg\" height=\"24px\"viewBox=\"0 0 24 24\"\n",
              "     width=\"24px\">\n",
              "    <g>\n",
              "        <path d=\"M19 3H5c-1.1 0-2 .9-2 2v14c0 1.1.9 2 2 2h14c1.1 0 2-.9 2-2V5c0-1.1-.9-2-2-2zM9 17H7v-7h2v7zm4 0h-2V7h2v10zm4 0h-2v-4h2v4z\"/>\n",
              "    </g>\n",
              "</svg>\n",
              "  </button>\n",
              "\n",
              "<style>\n",
              "  .colab-df-quickchart {\n",
              "      --bg-color: #E8F0FE;\n",
              "      --fill-color: #1967D2;\n",
              "      --hover-bg-color: #E2EBFA;\n",
              "      --hover-fill-color: #174EA6;\n",
              "      --disabled-fill-color: #AAA;\n",
              "      --disabled-bg-color: #DDD;\n",
              "  }\n",
              "\n",
              "  [theme=dark] .colab-df-quickchart {\n",
              "      --bg-color: #3B4455;\n",
              "      --fill-color: #D2E3FC;\n",
              "      --hover-bg-color: #434B5C;\n",
              "      --hover-fill-color: #FFFFFF;\n",
              "      --disabled-bg-color: #3B4455;\n",
              "      --disabled-fill-color: #666;\n",
              "  }\n",
              "\n",
              "  .colab-df-quickchart {\n",
              "    background-color: var(--bg-color);\n",
              "    border: none;\n",
              "    border-radius: 50%;\n",
              "    cursor: pointer;\n",
              "    display: none;\n",
              "    fill: var(--fill-color);\n",
              "    height: 32px;\n",
              "    padding: 0;\n",
              "    width: 32px;\n",
              "  }\n",
              "\n",
              "  .colab-df-quickchart:hover {\n",
              "    background-color: var(--hover-bg-color);\n",
              "    box-shadow: 0 1px 2px rgba(60, 64, 67, 0.3), 0 1px 3px 1px rgba(60, 64, 67, 0.15);\n",
              "    fill: var(--button-hover-fill-color);\n",
              "  }\n",
              "\n",
              "  .colab-df-quickchart-complete:disabled,\n",
              "  .colab-df-quickchart-complete:disabled:hover {\n",
              "    background-color: var(--disabled-bg-color);\n",
              "    fill: var(--disabled-fill-color);\n",
              "    box-shadow: none;\n",
              "  }\n",
              "\n",
              "  .colab-df-spinner {\n",
              "    border: 2px solid var(--fill-color);\n",
              "    border-color: transparent;\n",
              "    border-bottom-color: var(--fill-color);\n",
              "    animation:\n",
              "      spin 1s steps(1) infinite;\n",
              "  }\n",
              "\n",
              "  @keyframes spin {\n",
              "    0% {\n",
              "      border-color: transparent;\n",
              "      border-bottom-color: var(--fill-color);\n",
              "      border-left-color: var(--fill-color);\n",
              "    }\n",
              "    20% {\n",
              "      border-color: transparent;\n",
              "      border-left-color: var(--fill-color);\n",
              "      border-top-color: var(--fill-color);\n",
              "    }\n",
              "    30% {\n",
              "      border-color: transparent;\n",
              "      border-left-color: var(--fill-color);\n",
              "      border-top-color: var(--fill-color);\n",
              "      border-right-color: var(--fill-color);\n",
              "    }\n",
              "    40% {\n",
              "      border-color: transparent;\n",
              "      border-right-color: var(--fill-color);\n",
              "      border-top-color: var(--fill-color);\n",
              "    }\n",
              "    60% {\n",
              "      border-color: transparent;\n",
              "      border-right-color: var(--fill-color);\n",
              "    }\n",
              "    80% {\n",
              "      border-color: transparent;\n",
              "      border-right-color: var(--fill-color);\n",
              "      border-bottom-color: var(--fill-color);\n",
              "    }\n",
              "    90% {\n",
              "      border-color: transparent;\n",
              "      border-bottom-color: var(--fill-color);\n",
              "    }\n",
              "  }\n",
              "</style>\n",
              "\n",
              "  <script>\n",
              "    async function quickchart(key) {\n",
              "      const quickchartButtonEl =\n",
              "        document.querySelector('#' + key + ' button');\n",
              "      quickchartButtonEl.disabled = true;  // To prevent multiple clicks.\n",
              "      quickchartButtonEl.classList.add('colab-df-spinner');\n",
              "      try {\n",
              "        const charts = await google.colab.kernel.invokeFunction(\n",
              "            'suggestCharts', [key], {});\n",
              "      } catch (error) {\n",
              "        console.error('Error during call to suggestCharts:', error);\n",
              "      }\n",
              "      quickchartButtonEl.classList.remove('colab-df-spinner');\n",
              "      quickchartButtonEl.classList.add('colab-df-quickchart-complete');\n",
              "    }\n",
              "    (() => {\n",
              "      let quickchartButtonEl =\n",
              "        document.querySelector('#df-5f24cad3-783e-405e-85c5-4d5dccf5beed button');\n",
              "      quickchartButtonEl.style.display =\n",
              "        google.colab.kernel.accessAllowed ? 'block' : 'none';\n",
              "    })();\n",
              "  </script>\n",
              "</div>\n",
              "\n",
              "  <div id=\"id_4eece90b-f0fc-4a9b-82f0-d82faaab50a0\">\n",
              "    <style>\n",
              "      .colab-df-generate {\n",
              "        background-color: #E8F0FE;\n",
              "        border: none;\n",
              "        border-radius: 50%;\n",
              "        cursor: pointer;\n",
              "        display: none;\n",
              "        fill: #1967D2;\n",
              "        height: 32px;\n",
              "        padding: 0 0 0 0;\n",
              "        width: 32px;\n",
              "      }\n",
              "\n",
              "      .colab-df-generate:hover {\n",
              "        background-color: #E2EBFA;\n",
              "        box-shadow: 0px 1px 2px rgba(60, 64, 67, 0.3), 0px 1px 3px 1px rgba(60, 64, 67, 0.15);\n",
              "        fill: #174EA6;\n",
              "      }\n",
              "\n",
              "      [theme=dark] .colab-df-generate {\n",
              "        background-color: #3B4455;\n",
              "        fill: #D2E3FC;\n",
              "      }\n",
              "\n",
              "      [theme=dark] .colab-df-generate:hover {\n",
              "        background-color: #434B5C;\n",
              "        box-shadow: 0px 1px 3px 1px rgba(0, 0, 0, 0.15);\n",
              "        filter: drop-shadow(0px 1px 2px rgba(0, 0, 0, 0.3));\n",
              "        fill: #FFFFFF;\n",
              "      }\n",
              "    </style>\n",
              "    <button class=\"colab-df-generate\" onclick=\"generateWithVariable('x_train')\"\n",
              "            title=\"Generate code using this dataframe.\"\n",
              "            style=\"display:none;\">\n",
              "\n",
              "  <svg xmlns=\"http://www.w3.org/2000/svg\" height=\"24px\"viewBox=\"0 0 24 24\"\n",
              "       width=\"24px\">\n",
              "    <path d=\"M7,19H8.4L18.45,9,17,7.55,7,17.6ZM5,21V16.75L18.45,3.32a2,2,0,0,1,2.83,0l1.4,1.43a1.91,1.91,0,0,1,.58,1.4,1.91,1.91,0,0,1-.58,1.4L9.25,21ZM18.45,9,17,7.55Zm-12,3A5.31,5.31,0,0,0,4.9,8.1,5.31,5.31,0,0,0,1,6.5,5.31,5.31,0,0,0,4.9,4.9,5.31,5.31,0,0,0,6.5,1,5.31,5.31,0,0,0,8.1,4.9,5.31,5.31,0,0,0,12,6.5,5.46,5.46,0,0,0,6.5,12Z\"/>\n",
              "  </svg>\n",
              "    </button>\n",
              "    <script>\n",
              "      (() => {\n",
              "      const buttonEl =\n",
              "        document.querySelector('#id_4eece90b-f0fc-4a9b-82f0-d82faaab50a0 button.colab-df-generate');\n",
              "      buttonEl.style.display =\n",
              "        google.colab.kernel.accessAllowed ? 'block' : 'none';\n",
              "\n",
              "      buttonEl.onclick = () => {\n",
              "        google.colab.notebook.generateWithVariable('x_train');\n",
              "      }\n",
              "      })();\n",
              "    </script>\n",
              "  </div>\n",
              "\n",
              "    </div>\n",
              "  </div>\n"
            ],
            "application/vnd.google.colaboratory.intrinsic+json": {
              "type": "dataframe",
              "variable_name": "x_train",
              "summary": "{\n  \"name\": \"x_train\",\n  \"rows\": 32000,\n  \"fields\": [\n    {\n      \"column\": \"tweet_id\",\n      \"properties\": {\n        \"dtype\": \"number\",\n        \"std\": 118808378,\n        \"min\": 1693956175,\n        \"max\": 1966441171,\n        \"num_unique_values\": 32000,\n        \"samples\": [\n          1751919407,\n          1753331665,\n          1694747003\n        ],\n        \"semantic_type\": \"\",\n        \"description\": \"\"\n      }\n    },\n    {\n      \"column\": \"sentiment\",\n      \"properties\": {\n        \"dtype\": \"category\",\n        \"num_unique_values\": 13,\n        \"samples\": [\n          \"boredom\",\n          \"empty\",\n          \"hate\"\n        ],\n        \"semantic_type\": \"\",\n        \"description\": \"\"\n      }\n    },\n    {\n      \"column\": \"content\",\n      \"properties\": {\n        \"dtype\": \"string\",\n        \"num_unique_values\": 31595,\n        \"samples\": [\n          \"cant sleep epp someone awake scared crap outta\",\n          \"hlywdscrnwriter ive thought several time got good friend\",\n          \"another friday night man skint rubbish\"\n        ],\n        \"semantic_type\": \"\",\n        \"description\": \"\"\n      }\n    }\n  ]\n}"
            }
          },
          "metadata": {},
          "execution_count": 48
        }
      ]
    },
    {
      "cell_type": "code",
      "source": [
        "#bag of words"
      ],
      "metadata": {
        "id": "awDqx8r7ZJ5r"
      },
      "execution_count": 51,
      "outputs": []
    },
    {
      "cell_type": "code",
      "source": [
        "from sklearn.feature_extraction.text import CountVectorizer"
      ],
      "metadata": {
        "id": "Ub9agqNMZEZZ"
      },
      "execution_count": 49,
      "outputs": []
    },
    {
      "cell_type": "code",
      "source": [
        "cv = CountVectorizer(stop_words='english',min_df =  10, max_df = 200, max_features = 2000)"
      ],
      "metadata": {
        "id": "iZsU8ccnZFyc"
      },
      "execution_count": 50,
      "outputs": []
    },
    {
      "cell_type": "code",
      "source": [
        "x_train_bow = cv.fit_transform(x_train['content']).toarray()\n",
        "x_test_bow = cv.transform(x_test['content']).toarray()"
      ],
      "metadata": {
        "id": "Dku1vif7ZLn7"
      },
      "execution_count": 54,
      "outputs": []
    },
    {
      "cell_type": "code",
      "source": [
        "print(cv.vocabulary_)"
      ],
      "metadata": {
        "colab": {
          "base_uri": "https://localhost:8080/"
        },
        "id": "zqjrmy9qZUjK",
        "outputId": "9905eadf-729e-465e-d16e-dacd61d91441"
      },
      "execution_count": 56,
      "outputs": [
        {
          "output_type": "stream",
          "name": "stdout",
          "text": [
            "{'mad': 1086, 'hell': 852, 'pink': 1309, 'black': 218, 'print': 1353, 'wanted': 1880, 'wear': 1894, 'god': 763, 'bless': 223, 'hungry': 903, 'anymore': 112, 'lady': 1006, 'book': 239, 'suggestion': 1672, '23': 18, '24': 19, 'coffee': 399, 'hand': 817, 'outside': 1253, 'sunday': 1678, 'stuck': 1658, 'bye': 299, 'totally': 1777, 'agree': 73, 'everybody': 609, 'close': 387, 'window': 1926, 'bus': 291, 'train': 1787, 'afraid': 69, 'robluketic': 1451, 'voice': 1868, 'youve': 1990, 'started': 1631, 'xo': 1968, 'excited': 619, 'tweeter': 1811, 'bored': 243, 'play': 1319, 'hit': 865, 'fell': 666, 'ugh': 1825, 'paper': 1271, 'blog': 229, 'set': 1524, 'private': 1354, 'change': 339, 'beautiful': 193, 'enjoy': 595, 'sun': 1676, 'ppl': 1343, 'anniversary': 107, 'video': 1864, 'break': 262, 'place': 1313, 'youll': 1985, 'worry': 1953, 'hang': 819, 'rub': 1463, 'seeing': 1508, 'il': 916, 'watched': 1889, 'far': 650, 'dead': 485, 'weather': 1896, 'shame': 1531, '11': 2, 'dinner': 520, 'anyways': 114, 'check': 350, 'ya': 1972, 'ask': 133, 'writing': 1960, 'read': 1398, 'evil': 613, 'terrible': 1726, 'dentist': 502, 'shake': 1529, 'luck': 1079, 'ice': 908, 'saturday': 1483, 'cold': 400, 'fuck': 730, 'complete': 411, 'member': 1121, 'social': 1592, 'site': 1567, 'babysitting': 166, 'finished': 685, 'packing': 1261, 'clothes': 391, 'xd': 1966, 'ache': 54, 'jtimberlake': 972, 'canada': 312, 'east': 575, 'coast': 397, 'running': 1469, 'lil': 1046, 'graduation': 781, 'starting': 1632, 'rain': 1391, 'james': 951, 'taylor': 1715, 'fit': 689, 'style': 1665, 'sa': 1471, 'audition': 146, 'track': 1784, 'high': 861, 'key': 982, 'facebook': 636, 'decided': 491, 'annoying': 109, 'add': 61, 'order': 1248, 'forward': 718, 'presentation': 1350, 'store': 1647, 'interesting': 932, 'sale': 1476, 'month': 1166, 'prom': 1363, 'havent': 834, 'contact': 421, 'early': 572, 'rest': 1434, 'talk': 1707, 'web': 1897, 'based': 179, 'product': 1358, 'server': 1521, 'dr': 543, 'rock': 1452, 'jimmy': 956, 'drinking': 552, 'jealous': 955, 'drive': 553, 'watchin': 1890, 'dad': 467, 'airport': 83, 'hoping': 883, 'buy': 297, 'lunch': 1081, 'pay': 1281, 'cut': 461, 'hehe': 851, 'option': 1246, 'world': 1951, 'wasnt': 1886, 'mess': 1126, 'future': 737, 'problem': 1357, 'officially': 1233, 'til': 1754, 'fall': 642, 'cute': 462, 'hahah': 811, 'chat': 347, 'pic': 1299, 'music': 1182, 'google': 770, 'wave': 1893, 'happened': 825, 'letter': 1039, 'sitting': 1569, 'room': 1457, 'figure': 676, 'asap': 131, 'milk': 1143, 'drink': 551, 'whats': 1912, 'making': 1093, 'disney': 525, 'kid': 986, 'character': 344, 'werent': 1908, 'lead': 1029, 'strawberry': 1652, 'husband': 906, 'voted': 1870, 'banana': 172, 'tho': 1745, 'money': 1164, 'dude': 562, 'surprise': 1687, 'meet': 1118, 'ago': 72, 'soooo': 1601, 'friendly': 727, 'tweeting': 1813, 'bet': 203, 'ran': 1395, 'mile': 1140, 'mcdonalds': 1112, 'burn': 287, 'double': 536, 'egg': 583, 'okay': 1237, 'changed': 340, 'respond': 1432, 'message': 1127, 'hangin': 820, 'club': 394, 'bar': 176, 'car': 318, 'hold': 869, 'praying': 1347, 'slept': 1577, 'entire': 598, 'flight': 695, 'woke': 1935, 'fact': 637, 'bang': 174, 'trek': 1792, 'swear': 1692, 'atm': 142, 'straight': 1650, 'lmao': 1058, 'light': 1044, 'leave': 1034, 'sushi': 1690, 'nope': 1214, 'dear': 488, 'smell': 1583, 'bath': 181, 'city': 377, 'fish': 688, 'aww': 161, 'wrong': 1961, 'loved': 1073, 'able': 45, 'everyday': 610, 'quote': 1386, 'vote': 1869, 'fail': 638, 'heart': 845, 'real': 1400, 'worried': 1952, 'safe': 1474, 'bf': 205, 'ah': 74, 'saw': 1486, 'saying': 1487, 'difficult': 519, 'hair': 814, 'sore': 1604, 'surgery': 1686, 'trust': 1799, 'tax': 1714, 'ha': 808, 'played': 1320, 'game': 739, 'lost': 1071, 'cause': 327, 'talking': 1710, 'shes': 1535, 'grown': 797, 'justin': 978, 'timberlake': 1756, 'master': 1105, 'helping': 856, 'fever': 671, 'cnt': 396, 'war': 1882, 'computer': 413, 'fan': 647, 'ended': 590, 'yesterday': 1981, 'ima': 918, 'chick': 358, 'hahaha': 812, 'soccer': 1591, 'series': 1519, 'shit': 1540, 'party': 1276, 'beauty': 194, 'birthday': 214, 'laughing': 1021, 'stop': 1645, 'bring': 269, 'chicken': 359, 'barely': 177, 'walk': 1876, 'forgot': 715, 'lucky': 1080, 'link': 1050, 'mariahcarey': 1098, 'id': 909, 'million': 1144, 'plus': 1326, 'appreciate': 122, 'choose': 370, 'album': 87, '14': 5, 'miserable': 1149, 'report': 1428, 'sigh': 1555, 'nap': 1189, 'short': 1546, 'office': 1231, 'eating': 578, 'giant': 752, 'chocolate': 368, 'button': 296, 'dark': 475, '40': 31, 'radio': 1390, 'station': 1635, 'leaving': 1035, 'poor': 1332, 'josh': 969, 'boy': 256, 'rip': 1446, 'isnt': 941, 'remember': 1422, 'plenty': 1324, 'count': 434, 'hug': 896, 'pair': 1268, 'tuesday': 1801, 'win': 1924, 'missing': 1150, 'crazy': 449, 'till': 1755, 'bought': 250, 'magazine': 1087, 'person': 1290, 'update': 1839, 'excellent': 618, 'news': 1203, 'chillin': 363, '2day': 22, 'nite': 1207, 'tweeps': 1808, 'playing': 1322, 'tried': 1793, 'website': 1898, 'error': 603, 'firefox': 687, 'woo': 1942, 'earth': 573, 'season': 1502, 'booo': 241, 'excuse': 621, 'shift': 1536, 'local': 1060, '100': 1, 'follower': 705, 'gosh': 772, 'darn': 476, 'mood': 1167, 'bbq': 186, 'heat': 846, 'cleaning': 382, 'hi': 859, 'apparently': 118, 'wrote': 1962, 'word': 1947, 'practice': 1344, '2nd': 25, 'late': 1016, 'xxx': 1971, 'laying': 1026, 'texting': 1730, 'yall': 1974, 'shop': 1544, 'online': 1239, 'chest': 356, 'dog': 531, 'brain': 258, 'past': 1280, 'yr': 1991, 'min': 1145, 'single': 1563, 'twin': 1816, 'welcome': 1906, 'freakin': 721, 'kinda': 993, 'alot': 93, 'app': 117, 'file': 678, 'yep': 1980, 'popular': 1334, 'film': 679, 'invited': 936, 'join': 961, 'group': 794, 'second': 1506, 'called': 306, 'salad': 1475, 'starbucks': 1630, 'sudden': 1670, 'end': 589, 'summer': 1675, 'philippine': 1294, 'face': 635, 'sing': 1561, 'headache': 838, 'clue': 395, 'supernatural': 1682, 'red': 1415, 'visit': 1866, 'tmrw': 1762, 'ily': 917, 'senior': 1516, 'final': 680, 'steak': 1640, 'hot': 889, 'wing': 1928, 'walking': 1877, 'puppy': 1373, 'downtown': 542, 'cat': 323, 'nearly': 1193, 'shell': 1534, 'thursday': 1750, 'jonasbrothers': 966, 'heard': 844, 'horrible': 884, 'mum': 1180, 'knew': 1000, 'unless': 1838, 'charger': 346, 'customer': 460, 'bos': 246, 'throw': 1747, 'useful': 1853, 'heh': 850, 'blast': 222, 'wtf': 1963, 'crap': 445, 'cost': 431, 'grand': 782, 'keeping': 980, 'mind': 1146, 'mommy': 1163, 'fry': 728, 'bread': 261, 'gave': 743, 'picture': 1304, 'fb': 662, 'credit': 451, 'sux': 1691, 'text': 1729, 'happening': 826, 'busy': 293, 'cheese': 354, 'chili': 361, 'waiting': 1873, 'program': 1361, 'english': 594, 'version': 1861, 'role': 1455, 'model': 1160, 'xoxo': 1969, 'wishing': 1932, 'latest': 1018, 'comic': 404, 'coming': 406, 'came': 308, 'big': 208, 'ruined': 1466, 'space': 1610, 'theyre': 1740, 'blue': 233, 'itll': 945, 'swim': 1695, 'coz': 442, 'eat': 577, 'aunt': 148, 'changing': 341, 'idk': 912, 'longer': 1064, 'recognize': 1409, 'email': 588, 'address': 65, 'post': 1339, 'probably': 1356, 'mmm': 1155, 'ff': 672, 'save': 1484, 'tooo': 1773, 'sister': 1565, 'gutted': 806, 'bathroom': 182, 'free': 723, 'happen': 824, 'sam': 1478, 'houston': 891, 'photography': 1297, 'palm': 1269, 'tip': 1758, 'rocked': 1453, 'ipod': 938, 'classic': 379, 'dumb': 563, 'sleepy': 1576, 'heading': 840, 'listened': 1053, 'episode': 601, 'congratulation': 417, 'daddy': 468, 'bank': 175, 'holiday': 872, 'spending': 1619, 'attack': 143, 'sooo': 1600, 'nasty': 1190, 'joined': 962, 'following': 707, 'upset': 1847, 'mr': 1175, 'doubt': 537, 'followfriday': 706, 'actual': 58, 'pm': 1328, '10': 0, 'june': 976, 'youtube': 1989, 'instead': 930, 'closing': 390, 'begin': 198, 'moving': 1174, 'er': 602, 'finger': 683, 'blood': 230, 'sugar': 1671, 'dream': 548, 'haircut': 815, 'gone': 765, 'born': 245, 'forget': 713, 'e3': 569, 'la': 1004, 'exam': 617, 'revision': 1441, 'died': 514, 'florida': 697, 'painting': 1267, 'tweeted': 1810, 'worked': 1948, 'reply': 1427, 'awww': 162, 'minute': 1148, 'extra': 630, 'eye': 632, 'sweet': 1693, 'gfalcone601': 750, 'father': 656, 'comment': 407, 'touch': 1778, 'inside': 929, 'laptop': 1014, 'looked': 1065, 'boyfriend': 257, 'power': 1342, 'storm': 1648, 'tattoo': 1713, 'design': 507, 'shirt': 1539, 'kiss': 995, 'apple': 120, 'huge': 897, 'crack': 443, 'glass': 758, 'screen': 1496, 'gossip': 773, 'tree': 1791, 'hill': 863, 'slow': 1579, 'bike': 211, 'crash': 447, 'fucking': 733, 'share': 1532, 'info': 927, 'killed': 989, 'art': 129, 'mitchelmusso': 1153, 'awwww': 163, 'hello': 854, 'nose': 1218, 'head': 837, 'tea': 1717, 'bowl': 253, 'floor': 696, 'grr': 798, 'bone': 237, 'simple': 1559, 'joy': 971, 'greatest': 788, 'cheesecake': 355, 'ate': 139, 'diet': 516, 'quit': 1382, 'worth': 1956, 'degree': 497, 'download': 539, 'using': 1855, 'connection': 418, 'gym': 807, 'family': 645, 'funny': 736, 'tummy': 1802, 'shining': 1537, 'bag': 170, 'basically': 180, 'buddy': 279, 'mini': 1147, 'england': 593, 'number': 1223, 'beer': 197, 'btw': 277, 'hav': 833, 'garden': 741, 'bunny': 286, 'account': 52, 'foot': 709, 'subway': 1666, 'hadnt': 809, 'paid': 1263, 'voting': 1871, 'especially': 604, 'holding': 870, 'white': 1916, 'mac': 1083, 'iamdiddy': 907, 'gotta': 774, 'twpp': 1821, 'channel': 342, 'island': 940, 'austin': 149, 'rite': 1447, 'vega': 1860, 'issue': 942, 'catch': 324, 'em': 587, 'migraine': 1138, 'stick': 1643, 'guitar': 804, 'hero': 857, 'reading': 1399, 'theatre': 1737, 'stay': 1637, 'believe': 200, 'worse': 1954, 'losing': 1069, '4th': 34, 'surprised': 1688, 'wedding': 1900, 'support': 1683, 'fast': 653, 'cross': 453, 'piece': 1305, 'moon': 1168, 'absolutely': 46, 'guest': 803, 'france': 720, 'sadly': 1472, 'germany': 748, 'surprisingly': 1689, 'bummed': 283, 'bear': 191, 'enjoying': 597, 'st': 1626, 'mark': 1099, 'road': 1449, 'food': 708, 'service': 1522, 'definitely': 496, 'bloody': 231, 'booked': 240, 'saving': 1485, 'dropped': 557, 'sort': 1605, 'spam': 1611, 'perfect': 1288, 'random': 1396, 'shopping': 1545, 'ball': 171, 'listening': 1054, 'brand': 259, 'listen': 1052, 'alright': 94, 'cloudy': 393, 'typical': 1824, 'spring': 1625, 'ddlovato': 484, 'earlier': 571, 'ohhh': 1236, 'xx': 1970, 'folk': 703, 'biggest': 210, 'liked': 1045, 'awsome': 160, 'workout': 1950, 'shower': 1551, 'dvd': 567, 'july': 974, 'secret': 1507, '13': 4, 'cheer': 353, 'prefer': 1348, 'tweetdeck': 1809, 'juice': 973, 'twittering': 1819, 'review': 1438, 'followed': 704, 'super': 1681, 'favorite': 660, 'britain': 270, 'talent': 1706, 'small': 1582, 'stuff': 1663, 'flash': 692, 'hm': 866, 'screw': 1497, 'uni': 1837, 'assignment': 137, 'ruby': 1464, 'suppose': 1684, 'quite': 1383, '6th': 40, 'dish': 524, 'fixed': 691, 'card': 319, 'thingy': 1742, 'boo': 238, 'sunshine': 1680, 'graduate': 780, 'brother': 274, 'broke': 272, 'checked': 351, 'disappointed': 523, 'epic': 600, 'passed': 1279, 'view': 1865, 'realised': 1401, 'history': 864, 'brilliant': 268, 'washing': 1885, 'lived': 1056, 'available': 151, 'vacation': 1858, 'san': 1479, 'helped': 855, 'edit': 579, 'holy': 876, 'land': 1011, 'story': 1649, 'prayer': 1346, 'fix': 690, 'celebrating': 331, '½s': 1997, 'waitin': 1872, 'dannywood': 474, 'extremely': 631, 'chilling': 364, 'mcfly': 1113, 'incredible': 924, 'seriously': 1520, 'screwed': 1498, 'cuz': 464, 'john': 959, 'sunny': 1679, 'delicious': 500, 'yummy': 1993, 'energy': 592, 'dance': 471, 'forgive': 714, 'visiting': 1867, 'situation': 1570, 'near': 1192, 'nyc': 1225, 'middle': 1136, 'pc': 1283, 'confused': 415, 'taking': 1705, 'memory': 1122, 'buying': 298, 'list': 1051, 'meant': 1115, 'updated': 1840, 'luv': 1082, 'ellen': 586, 'kidding': 987, 'hilarious': 862, 'force': 711, 'learn': 1031, 'public': 1370, 'loving': 1075, 'dreading': 547, 'goodbye': 766, 'le': 1028, 'aint': 81, 'bee': 196, 'lakers': 1009, 'posted': 1340, 'gunna': 805, 'major': 1091, 'craving': 448, 'realize': 1403, 'toy': 1783, 'arrived': 128, 'studio': 1660, 'rainy': 1394, 'bright': 267, 'color': 403, 'bound': 251, 'bowling': 254, 'gt': 800, 'half': 816, 'evening': 607, 'afford': 68, 'flower': 698, 'crossed': 454, 'official': 1232, 'vet': 1862, 'concert': 414, 'noo': 1209, 'aw': 154, 'honey': 880, 'hah': 810, 'wolverine': 1937, 'die': 513, 'grow': 795, 'course': 438, 'run': 1468, 'moment': 1161, 'honestly': 879, 'wednesday': 1901, 'congrats': 416, 'lazy': 1027, 'stopped': 1646, 'wearing': 1895, 'shall': 1530, 'raining': 1393, 'flu': 699, 'anytime': 113, 'sent': 1518, 'cell': 332, 'internet': 933, '140': 6, 'depressing': 505, 'havin': 835, 'gig': 754, 'thanx': 1735, 'teacher': 1719, 'lesson': 1038, 'ride': 1444, 'pick': 1300, 'portfolio': 1335, '30': 27, 'retrorewind': 1436, 'page': 1262, 'jordanknight': 968, 'load': 1059, 'interview': 934, 'meeting': 1119, 'ooo': 1242, 'huh': 899, 'peace': 1284, 'fine': 682, 'town': 1782, 'miami': 1134, 'needed': 1195, 'lame': 1010, 'jay': 953, 'meh': 1120, 'cancel': 313, 'stupid': 1664, 'med': 1116, 'body': 236, 'contest': 423, 'invite': 935, 'leg': 1036, 'travel': 1789, 'exhausted': 623, 'goodness': 768, 'company': 409, 'told': 1765, 'bitch': 215, 'air': 82, 'scared': 1489, 'hopefully': 882, 'el': 585, 'fancy': 648, 'finding': 681, 'possibly': 1338, 'pizza': 1312, 'chicago': 357, 'reason': 1405, 'cinema': 376, 'annoyed': 108, 'goal': 762, 'b4': 164, 'hmmm': 868, 'supposed': 1685, 'ben': 201, 'cancelled': 314, 'driving': 555, 'stand': 1628, 'parent': 1272, 'tgif': 1731, 'iphone': 937, 'stream': 1653, 'send': 1514, 'msg': 1177, 'dick': 512, 'spanish': 1612, 'click': 384, 'quoti': 1387, 'sex': 1526, 'lay': 1025, 'falling': 643, 'apart': 115, 'fml': 702, 'ow': 1256, 'drama': 545, 'yo': 1982, 'mama': 1095, 'wouldnt': 1957, 'proud': 1367, 'nickcarter': 1205, 'vid': 1863, 'sucked': 1669, 'self': 1511, 'control': 425, 'laundry': 1022, 'sock': 1593, 'beach': 189, 'awful': 158, 'revise': 1439, 'care': 320, 'caught': 326, '80': 41, 'ny': 1224, 'upload': 1843, 'photo': 1296, 'sat': 1482, 'dang': 473, 'goodnight': 769, 'tommcfly': 1767, 'momma': 1162, 'use': 1851, 'true': 1797, 'brought': 275, 'mistake': 1152, 'failed': 639, 'test': 1727, 'woohoo': 1944, 'spell': 1616, 'kind': 992, 'ftw': 729, 'doctor': 530, 'spelling': 1617, 'clean': 380, 'dry': 561, 'easy': 576, 'code': 398, 'sit': 1566, 'amazon': 95, 'gift': 753, 'state': 1634, 'taylorswift13': 1716, 'london': 1062, 'noooo': 1212, 'fav': 658, 'location': 1061, 'massage': 1103, 'appointment': 121, 'handle': 818, 'killing': 991, 'pain': 1264, 'goin': 764, '1st': 12, 'rid': 1443, 'mobile': 1158, 'pack': 1258, 'thinking': 1743, 'loud': 1072, 'odd': 1229, 'grrr': 799, 'wed': 1899, 'def': 495, 'answer': 110, 'effort': 582, 'matter': 1110, 'dress': 549, 'limit': 1047, 'swine': 1697, 'gettin': 749, 'boston': 247, 'metal': 1130, 'wet': 1910, 'avatar': 152, 'tom': 1766, 'wondering': 1941, 'sydney': 1699, 'babe': 165, 'seen': 1509, 'soo': 1599, 'walmart': 1879, 'wonder': 1939, 'bud': 278, 'female': 669, 'interested': 931, 'arent': 125, 'horror': 885, 'fave': 659, 'bay': 184, 'mileycyrus': 1142, 'study': 1661, '12': 3, 'hr': 893, 'expect': 625, 'cake': 303, 'case': 321, 'neighbor': 1197, 'took': 1771, 'thumb': 1749, 'piss': 1310, 'plant': 1318, 'forever': 712, 'sold': 1594, 'tour': 1780, 'lovely': 1074, 'arm': 127, 'uk': 1828, 'special': 1615, 'afternoon': 70, 'miley': 1141, 'girlfriend': 755, 'nooo': 1211, 'grey': 791, 'acting': 56, 'worst': 1955, 'deal': 487, 'young': 1986, 'chinese': 366, 'twice': 1814, 'age': 71, 'michael': 1135, 'park': 1274, 'david': 481, 'truth': 1800, 'indian': 925, 'american': 97, 'wats': 1892, 'return': 1437, 'downloaded': 540, 'felt': 668, 'wonderful': 1940, 'youd': 1984, 'na': 1185, 'ang': 102, 'mo': 1157, 'hanging': 821, 'different': 518, 'mountain': 1170, 'yea': 1977, 'allowed': 92, 'idea': 910, 'yum': 1992, 'phew': 1293, 'bummer': 284, 'america': 96, 'ahhh': 79, 'ugly': 1826, 'tha': 1732, 'lookin': 1066, 'atleast': 141, 'headed': 839, 'swimming': 1696, 'hospital': 887, 'andrew': 99, 'cancer': 315, 'direct': 521, 'bb': 185, 'abt': 47, 'apps': 123, 'important': 921, 'ew': 614, 'certain': 335, 'literally': 1055, 'davidarchie': 482, 'profile': 1360, 'easier': 574, 'throat': 1746, 'woot': 1946, 'water': 1891, 'shoe': 1541, 'class': 378, 'success': 1667, 'spend': 1618, 'tan': 1711, 'tonite': 1770, 'camera': 309, 'point': 1330, 'beat': 192, 'understand': 1833, 'younger': 1987, 'fly': 700, 'blessed': 224, 'gas': 742, 'price': 1352, 'finish': 684, 'forum': 717, 'open': 1245, 'possible': 1337, 'editing': 580, 'sleeping': 1575, 'waste': 1887, 'oven': 1255, 'fault': 657, 'idiot': 911, 'horse': 886, 'marathon': 1097, 'challenge': 337, 'tough': 1779, 'hurting': 905, 'usual': 1856, 'heap': 843, 'signed': 1557, 'ghost': 751, 'myspace': 1184, 'hd': 836, 'refuse': 1416, 'charge': 345, 'battery': 183, 'broken': 273, 'flick': 694, 'quickly': 1380, 'notice': 1220, 'hubby': 895, 'urgh': 1848, 'thnx': 1744, 'cleaned': 381, 'nail': 1187, 'relaxing': 1420, '2morrow': 24, 'lonely': 1063, 'hun': 902, 'hows': 892, 'sexy': 1527, 'hmm': 867, 'dm': 527, 'boot': 242, 'selenagomez': 1510, 'usa': 1849, 'leno': 1037, 'mail': 1089, 'green': 789, 'men': 1123, 'ankle': 106, 'hole': 871, 'bottle': 249, 'mary': 1102, 'completely': 412, 'taste': 1712, 'slightly': 1578, 'hollyoaks': 875, 'doin': 532, 'normal': 1215, 'low': 1076, 'ummm': 1831, 'max': 1111, 'jonas': 965, 'sky': 1574, 'fully': 734, 'homework': 877, 'lack': 1005, 'sec': 1505, 'record': 1412, 'hollie': 873, 'bgt': 207, 'turning': 1806, 'tv': 1807, 'warm': 1883, 'dunno': 565, 'tune': 1803, 'unfortunately': 1835, 'mornin': 1169, 'faster': 654, 'hurry': 904, 'suit': 1673, 'sir': 1564, 'cooky': 429, 'neck': 1194, 'parking': 1275, 'bc': 187, 'turn': 1804, 'currently': 459, 'cloud': 392, 'cup': 457, 'used': 1852, 'moved': 1173, 'shot': 1547, 'hoo': 881, 'ala': 85, 'daughter': 479, 'married': 1101, 'blah': 220, 'quotthe': 1388, 'usb': 1850, 'drawing': 546, 'seattle': 1504, 'wife': 1920, 'fabulous': 634, 'happens': 827, 'pull': 1371, 'weed': 1903, 'sooooo': 1602, 'boring': 244, 'camping': 311, 'hella': 853, 'sandwich': 1480, 'size': 1571, 'cali': 304, 'smile': 1585, 'silly': 1558, 'pub': 1369, 'jonathanrknight': 967, 'jk': 957, 'death': 489, 'promise': 1364, 'wanting': 1881, 'date': 478, '300': 28, 'snl': 1590, 'trip': 1794, 'ti': 1752, 'sign': 1556, 'noticed': 1221, 'twitterland': 1820, 'sweetie': 1694, 'swing': 1698, 'planning': 1317, 'jus': 977, 'angry': 104, 'nooooo': 1213, 'cover': 440, 'sum': 1674, 'soooooo': 1603, 'cheap': 349, 'happiness': 828, 'bout': 252, 'cousin': 439, 'dying': 568, 'large': 1015, 'stress': 1655, 'desk': 508, 'wouldve': 1958, 'dougiemcfly': 538, 'crappy': 446, 'seat': 1503, 'breakfast': 263, 'meal': 1114, 'plan': 1314, 'treat': 1790, 'burrito': 290, 'pas': 1278, 'dj': 526, 'spent': 1620, 'turned': 1805, 'crush': 455, 'joe': 958, 'kno': 1001, 'wat': 1888, 'checking': 352, 'grandparent': 785, 'hater': 832, 'grateful': 787, 'da': 466, 'midnight': 1137, 'productive': 1359, 'um': 1829, '2moro': 23, 'asked': 134, 'background': 167, 'exercise': 622, 'dirty': 522, 'updating': 1841, 'personal': 1291, '20': 13, '15': 7, 'jon': 964, 'kate': 979, 'soup': 1608, 'mouth': 1172, '2nite': 26, 'makin': 1092, 'finishing': 686, 'rude': 1465, 'soul': 1606, 'nightmare': 1206, 'write': 1959, 'essay': 605, 'fair': 640, 'kitten': 997, 'lose': 1068, 'kitty': 998, 'fellow': 667, 'wind': 1925, '19': 11, 'counting': 435, 'woman': 1938, 'shoutout': 1550, 'dat': 477, 'gorgeous': 771, 'quiz': 1384, 'matt': 1109, 'greg': 790, 'cried': 452, 'queen': 1377, 'partying': 1277, '8th': 42, 'country': 436, 'posting': 1341, 'ear': 570, 'sell': 1512, 'business': 292, 'hotel': 890, 'ending': 591, 'chance': 338, 'august': 147, 'addicted': 63, 'wine': 1927, 'gear': 745, 'wake': 1874, 'couldve': 433, 'ampamp': 98, 'gah': 738, 'bedtime': 195, 'texas': 1728, 'kept': 981, 'ohh': 1235, 'massive': 1104, 'kicked': 985, 'ace': 53, 'jump': 975, 'street': 1654, 'calling': 307, 'nick': 1204, 'mate': 1107, 'outta': 1254, 'mike': 1139, 'delayed': 498, 'response': 1433, 'deep': 494, 'project': 1362, 'jam': 950, 'training': 1788, 'couple': 437, 'adam': 60, 'idol': 913, 'catching': 325, 'ac': 48, 'title': 1760, 'figured': 677, 'french': 725, 'mrskutcher': 1176, 'feed': 664, 'pray': 1345, 'que': 1376, 'itunes': 946, 'skill': 1572, 'quot': 1385, 'language': 1012, 'thx': 1751, 'chris': 371, 'lord': 1067, 'recommend': 1410, 'ups': 1846, 'pen': 1287, 'met': 1129, 'hannah': 823, 'standing': 1629, 'ty': 1822, 'football': 710, 'experience': 628, 'farm': 651, 'montana': 1165, 'boat': 235, 'paris': 1273, 'searching': 1501, 'table': 1701, 'skin': 1573, 'wheres': 1914, 'theyve': 1741, 'ta': 1700, 'bro': 271, 'roll': 1456, 'staying': 1639, 'fighting': 675, 'yard': 1975, 'mission': 1151, '18': 10, '26': 21, 'toast': 1763, 'bug': 281, 'strong': 1657, 'ps3': 1368, 'ex': 615, 'mall': 1094, 'drag': 544, 'planned': 1316, 'letting': 1040, 'wee': 1902, 'original': 1250, 'expensive': 627, 'line': 1049, 'aha': 75, 'steve': 1642, 'fantastic': 649, 'gud': 802, 'reach': 1397, 'access': 49, 'ryan': 1470, 'everyones': 611, 'pet': 1292, 'shut': 1553, 'animal': 105, '½t': 1998, 'grade': 779, 'avoid': 153, 'healthy': 842, 'usually': 1857, 'certainly': 336, 'studying': 1662, 'tix': 1761, '9am': 44, 'question': 1378, 'given': 756, 'prob': 1355, 'bday': 188, 'apartment': 116, 'cream': 450, 'yayy': 1976, 'upgrade': 1842, 'user': 1854, 'added': 62, 'impressed': 922, 'talkin': 1709, 'copy': 430, 'wireless': 1930, 'atl': 140, 'speaking': 1614, 'event': 608, 'philly': 1295, 'received': 1406, 'httptrimkwk9': 894, 'asleep': 136, 'asking': 135, 'lie': 1043, 'competition': 410, 'painful': 1265, 'hangover': 822, 'pant': 1270, 'pill': 1307, 'wide': 1919, 'awake': 155, 'note': 1219, 'step': 1641, 'strange': 1651, 'uploading': 1845, 'showing': 1552, 'knee': 999, 'drop': 556, 'topic': 1775, 'baseball': 178, 'match': 1106, 'tiny': 1757, 'fashion': 652, 'peep': 1286, 'bio': 212, 'traffic': 1785, 'drove': 558, 'xmen': 1967, 'theater': 1736, 'appear': 119, 'scary': 1490, 'dammit': 470, 'gotten': 775, 'picked': 1301, 'picking': 1302, 'bff': 206, 'rose': 1459, 'tear': 1722, 'fear': 663, 'ship': 1538, 'weve': 1911, 'math': 1108, 'learned': 1032, 'door': 535, '17': 9, 'besties': 202, 'chatting': 348, 'constantly': 420, 'ton': 1768, 'block': 227, 'wo': 1934, 'cd': 329, 'somebody': 1596, 'thankful': 1733, 'net': 1201, 'rob': 1450, 'pool': 1331, 'taken': 1704, 'result': 1435, 'blame': 221, 'lt33': 1078, 'salt': 1477, 'wit': 1933, 'fam': 644, 'holly': 874, 'toe': 1764, 'laugh': 1019, 'reality': 1402, 'alarm': 86, 'ticket': 1753, 'wen': 1907, 'angel': 103, 'lake': 1008, 'heyy': 858, 'deleted': 499, 'present': 1349, 'uncle': 1832, 'kill': 988, 'living': 1057, 'library': 1042, 'closed': 388, 'according': 51, 'drunk': 560, 'giving': 757, 'whore': 1918, 'player': 1321, 'wall': 1878, 'oo': 1240, 'son': 1598, 'mexican': 1131, 'offer': 1230, 'breathe': 266, 'lately': 1017, 'uploaded': 1844, 'sending': 1515, 'breaking': 264, 'tag': 1703, 'bird': 213, 'shoot': 1542, 'including': 923, 'bk': 217, 'sunburn': 1677, 'college': 402, 'fuckin': 732, 'unfair': 1834, 'flat': 693, 'twilight': 1815, 'insane': 928, 'quality': 1375, 'respect': 1431, 'workin': 1949, 'kick': 984, 'release': 1421, 'butter': 295, 'accident': 50, 'pig': 1306, 'relax': 1419, 'sadness': 1473, 'gay': 744, 'demi': 501, 'covered': 441, 'exactly': 616, 'level': 1041, '50': 35, 'rough': 1460, 'medium': 1117, 'smoking': 1588, 'depressed': 504, 'iron': 939, 'burnt': 289, 'difference': 517, 'diego': 515, 'celebrate': 330, 'clock': 386, '200': 14, 'river': 1448, 'article': 130, 'singing': 1562, 'mix': 1154, 'grab': 777, 'iï': 948, '½m': 1996, 'exciting': 620, 'pop': 1333, 'band': 173, 'grad': 778, 'ocean': 1227, 'duty': 566, 'remembered': 1423, 'fight': 674, 'blocked': 228, 'msn': 1178, '3d': 29, 'andy': 100, 'realized': 1404, '21': 16, 'chill': 362, 'imma': 920, 'rent': 1425, 'weight': 1904, 'spoke': 1622, 'pissed': 1311, 'ahh': 78, 'status': 1636, 'adorable': 66, 'term': 1725, 'grass': 786, 'cutting': 463, 'wood': 1943, 'weird': 1905, 'mtv': 1179, 'telling': 1724, 'badly': 169, 'network': 1202, 'drug': 559, '16': 8, 'yeahh': 1978, 'dun': 564, 'anybody': 111, 'johncmayer': 960, 'whoop': 1917, 'oops': 1244, 'recipe': 1408, 'teeth': 1723, 'session': 1523, 'enjoyed': 596, 'paying': 1282, 'comin': 405, 'slowly': 1580, 'proper': 1365, 'yah': 1973, 'jack': 949, 'solo': 1595, '45': 32, 'winter': 1929, 'ooh': 1241, 'market': 1100, 'wisdom': 1931, 'pleasure': 1323, 'christmas': 373, 'recently': 1407, 'entry': 599, 'journey': 970, 'north': 1217, 'nah': 1186, 'hardly': 830, 'scene': 1491, 'managed': 1096, 'search': 1500, 'research': 1430, 'ad': 59, 'oooh': 1243, 'church': 375, '25': 20, 'allergy': 91, 'performance': 1289, 'deserve': 506, 'main': 1090, 'named': 1188, 'ouch': 1251, 'yup': 1994, 'successful': 1668, 'tweetie': 1812, 'shooting': 1543, 'sittin': 1568, 'recording': 1413, 'leaf': 1030, 'heaven': 847, 'smiling': 1586, 'positive': 1336, 'pillow': 1308, 'bigger': 209, 'cavs': 328, 'sharing': 1533, 'theyll': 1739, 'quiet': 1381, 'grandma': 783, 'scare': 1488, 'waking': 1875, 'doc': 529, 'sims': 1560, 'mention': 1124, 'festival': 670, 'tongue': 1769, 'dave': 480, 'wheel': 1913, 'area': 124, 'glorious': 760, 'sea': 1499, 'taco': 1702, 'canuck': 317, 'ring': 1445, 'goodmorning': 767, 'woop': 1945, 'cafe': 302, 'talked': 1708, 'desktop': 509, 'butt': 294, 'gross': 793, 'growing': 796, 'board': 234, 'speak': 1613, 'europe': 606, 'recommendation': 1411, 'request': 1429, 'someday': 1597, 'fresh': 726, 'scratch': 1495, 'learning': 1033, 'stomach': 1644, 'outfit': 1252, 'form': 716, 'central': 334, 'human': 901, 'argh': 126, 'attention': 145, 'lap': 1013, 'fourth': 719, 'picnic': 1303, 'gtlt': 801, 'wild': 1923, 'imagine': 919, 'decide': 490, 'mi': 1133, 'dnt': 528, 'recovering': 1414, 'favourite': 661, 'dollar': 533, 'freezing': 724, 'smh': 1584, 'twit': 1817, 'chip': 367, 'adding': 64, 'chapter': 343, 'rained': 1392, 'team': 1721, 'race': 1389, 'action': 57, 'nkotb': 1208, 'eh': 584, 'keyboard': 983, 'rofl': 1454, 'cash': 322, 'wii': 1922, 'shout': 1549, 'snack': 1589, 'starving': 1633, 'building': 282, 'effect': 581, 'messed': 1128, 'hon': 878, 'replied': 1426, 'ahhhh': 80, 'hat': 831, 'pa': 1257, 'ko': 1003, 'xbox': 1965, 'lawn': 1024, 'total': 1776, 'brazil': 260, 'reminds': 1424, 'cupcake': 458, 'item': 944, 'hulu': 900, 'choice': 369, 'law': 1023, 'host': 888, 'machine': 1085, 'geez': 747, 'selling': 1513, 'awe': 157, 'shouldnt': 1548, 'nephew': 1198, 'fake': 641, 'sense': 1517, 'wwwyoutubecomchineselearn': 1964, 'donniewahlberg': 534, 'bunch': 285, 'downloading': 541, 'fat': 655, 'setting': 1525, 'box': 255, 'trouble': 1795, 'schedule': 1492, 'mummy': 1181, 'cooking': 428, 'zoo': 1995, 'woken': 1936, 'quick': 1379, '630': 39, 'freaking': 722, 'cuddle': 456, 'attempt': 144, 'cook': 427, 'garage': 740, 'type': 1823, 'peanut': 1285, 'yeh': 1979, 'heck': 849, 'exist': 624, 'putting': 1374, 'client': 385, 'bothered': 248, '5am': 37, 'nerd': 1199, 'sport': 1623, 'unhappy': 1836, 'roommate': 1458, 'christian': 372, 'sm': 1581, 'round': 1461, '2009': 15, 'kitchen': 996, 'plane': 1315, '4am': 33, '3rd': 30, 'row': 1462, 'officialtila': 1234, 'dhughesy': 511, 'chuck': 374, 'tire': 1759, 'ignore': 914, '22': 17, 'noon': 1210, 'candy': 316, 'beta': 204, 'blew': 225, 'laughed': 1020, 'flying': 701, 'cyrus': 465, 'award': 156, 'continue': 424, 'older': 1238, 'australia': 150, 'november': 1222, 'york': 1983, 'joke': 963, 'everytime': 612, 'comp': 408, 'staff': 1627, 'ahead': 77, 'smoke': 1587, 'podcast': 1329, 'wifi': 1921, 'regular': 1418, 'truly': 1798, 'ordered': 1249, 'tool': 1772, 'stressed': 1656, 'expected': 626, 'stayed': 1638, 'needle': 1196, 'health': 841, 'fab': 633, '500': 36, 'itï': 947, 'previous': 1351, 'conversation': 426, 'uh': 1827, 'youquot': 1988, 'teach': 1718, 'photoshop': 1298, 'child': 360, 'collection': 401, 'nervous': 1200, 'heavy': 848, '½ï': 1999, 'depends': 503, 'van': 1859, 'teaching': 1720, 'student': 1659, 'daily': 469, 'mode': 1159, 'truck': 1796, 'bacon': 168, 'camp': 310, 'pls': 1325, 'lt': 1077, 'act': 55, 'jb': 954, 'killer': 990, 'sarah': 1481, 'hahahaha': 813, 'gnight': 761, 'mouse': 1171, 'cable': 301, 'theme': 1738, 'october': 1228, 'dancing': 472, 'rice': 1442, 'packed': 1260, 'blip': 226, 'driver': 554, 'geek': 746, 'cramp': 444, 'west': 1909, 'considering': 419, 'score': 1494, 'dc': 483, 'ahaha': 76, 'loss': 1070, 'china': 365, '90': 43, 'gloomy': 759, 'laid': 1007, 'wash': 1884, 'touring': 1781, 'blackberry': 219, 'clear': 383, 'limited': 1048, 'alive': 90, 'feelin': 665, 'rule': 1467, 'deadline': 486, 'blow': 232, 'spot': 1624, 'si': 1554, 'revising': 1440, 'south': 1609, 'king': 994, 'gr8': 776, 'content': 422, 'bite': 216, 'aswell': 138, 'mentioned': 1125, 'whew': 1915, 'trailer': 1786, 'closer': 389, 'despite': 510, 'plz': 1327, 'center': 333, 'explain': 629, 'italian': 943, 'normally': 1216, 'musical': 1183, 'burned': 288, 'jason': 952, 'field': 673, 'nd': 1191, 'deck': 493, 'package': 1259, 'magic': 1088, 'awhile': 159, 'paint': 1266, 'cough': 432, 'alcohol': 88, 'orange': 1247, 'thankyou': 1734, 'properly': 1366, '60': 38, 'infection': 926, 'tooth': 1774, 'ca': 300, 'macbook': 1084, 'advice': 67, 'umm': 1830, 'famous': 646, 'mexico': 1132, 'decision': 492, 'spider': 1621, 'aka': 84, 'alex': 89, 'bt': 276, 'sf': 1528, 'dressed': 550, 'grocery': 792, 'breath': 265, 'budget': 280, 'souljaboytellem': 1607, 'hiding': 860, 'science': 1493, 'pulled': 1372, 'tht': 1748, 'california': 305, 'andyclemmensen': 101, 'ii': 915, 'hugh': 898, 'bean': 190, 'knowing': 1002, 'fucked': 731, 'bein': 199, 'regret': 1417, 'grandpa': 784, 'obviously': 1226, 'harder': 829, 'ashley': 132, 'funeral': 735, 'mmmm': 1156, 'twitpic': 1818}\n"
          ]
        }
      ]
    },
    {
      "cell_type": "code",
      "source": [
        "import gensim"
      ],
      "metadata": {
        "id": "5z9c9TAFZn9A"
      },
      "execution_count": 58,
      "outputs": []
    },
    {
      "cell_type": "code",
      "source": [
        "nltk.download('punkt')"
      ],
      "metadata": {
        "colab": {
          "base_uri": "https://localhost:8080/"
        },
        "id": "OY06KzL0aX9l",
        "outputId": "9a206d8f-ae1e-4e85-8032-27a22f1dfa04"
      },
      "execution_count": 61,
      "outputs": [
        {
          "output_type": "stream",
          "name": "stderr",
          "text": [
            "[nltk_data] Downloading package punkt to /root/nltk_data...\n",
            "[nltk_data]   Unzipping tokenizers/punkt.zip.\n"
          ]
        },
        {
          "output_type": "execute_result",
          "data": {
            "text/plain": [
              "True"
            ]
          },
          "metadata": {},
          "execution_count": 61
        }
      ]
    },
    {
      "cell_type": "code",
      "source": [
        "from nltk import sent_tokenize\n",
        "from gensim.utils import simple_preprocess"
      ],
      "metadata": {
        "id": "qf9rLHF9ZtuO"
      },
      "execution_count": 59,
      "outputs": []
    },
    {
      "cell_type": "code",
      "source": [
        "story = []\n",
        "for doc in data['content'] :\n",
        "  raw_sent = sent_tokenize(doc)\n",
        "  for sent in raw_sent:\n",
        "    story.append(simple_preprocess(sent))"
      ],
      "metadata": {
        "id": "i3FH8SUAX5Ut"
      },
      "execution_count": 62,
      "outputs": []
    },
    {
      "cell_type": "code",
      "source": [
        "#the model is being trained"
      ],
      "metadata": {
        "id": "-vElELrBamE5"
      },
      "execution_count": 64,
      "outputs": []
    },
    {
      "cell_type": "code",
      "source": [
        "model =  gensim.models.Word2Vec(window=10,min_count=2)\n",
        "model.build_vocab(story)\n",
        "model.train(story, total_examples=model.corpus_count, epochs=model.epochs)"
      ],
      "metadata": {
        "id": "Cuimv4BuYU8d",
        "colab": {
          "base_uri": "https://localhost:8080/"
        },
        "outputId": "d379a3d4-2464-4362-c6a5-951bbf24ee2e"
      },
      "execution_count": 63,
      "outputs": [
        {
          "output_type": "execute_result",
          "data": {
            "text/plain": [
              "(1244564, 1528245)"
            ]
          },
          "metadata": {},
          "execution_count": 63
        }
      ]
    },
    {
      "cell_type": "code",
      "source": [
        "#randomforestclassifier"
      ],
      "metadata": {
        "id": "AnrI7eOhbBgK"
      },
      "execution_count": 67,
      "outputs": []
    },
    {
      "cell_type": "code",
      "source": [
        "from sklearn.ensemble import RandomForestClassifier"
      ],
      "metadata": {
        "id": "BJ3tO7_yadQt"
      },
      "execution_count": 65,
      "outputs": []
    },
    {
      "cell_type": "code",
      "source": [
        "rf= RandomForestClassifier()"
      ],
      "metadata": {
        "id": "hQUp1oFQa0a0"
      },
      "execution_count": 73,
      "outputs": []
    },
    {
      "cell_type": "code",
      "source": [
        "rf.fit(x_train_bow,y_train)"
      ],
      "metadata": {
        "colab": {
          "base_uri": "https://localhost:8080/",
          "height": 74
        },
        "id": "uVJxRNuva4id",
        "outputId": "78649bcb-c6ac-4f3b-d626-b7f1f5a1f487"
      },
      "execution_count": 74,
      "outputs": [
        {
          "output_type": "execute_result",
          "data": {
            "text/plain": [
              "RandomForestClassifier()"
            ],
            "text/html": [
              "<style>#sk-container-id-1 {color: black;background-color: white;}#sk-container-id-1 pre{padding: 0;}#sk-container-id-1 div.sk-toggleable {background-color: white;}#sk-container-id-1 label.sk-toggleable__label {cursor: pointer;display: block;width: 100%;margin-bottom: 0;padding: 0.3em;box-sizing: border-box;text-align: center;}#sk-container-id-1 label.sk-toggleable__label-arrow:before {content: \"▸\";float: left;margin-right: 0.25em;color: #696969;}#sk-container-id-1 label.sk-toggleable__label-arrow:hover:before {color: black;}#sk-container-id-1 div.sk-estimator:hover label.sk-toggleable__label-arrow:before {color: black;}#sk-container-id-1 div.sk-toggleable__content {max-height: 0;max-width: 0;overflow: hidden;text-align: left;background-color: #f0f8ff;}#sk-container-id-1 div.sk-toggleable__content pre {margin: 0.2em;color: black;border-radius: 0.25em;background-color: #f0f8ff;}#sk-container-id-1 input.sk-toggleable__control:checked~div.sk-toggleable__content {max-height: 200px;max-width: 100%;overflow: auto;}#sk-container-id-1 input.sk-toggleable__control:checked~label.sk-toggleable__label-arrow:before {content: \"▾\";}#sk-container-id-1 div.sk-estimator input.sk-toggleable__control:checked~label.sk-toggleable__label {background-color: #d4ebff;}#sk-container-id-1 div.sk-label input.sk-toggleable__control:checked~label.sk-toggleable__label {background-color: #d4ebff;}#sk-container-id-1 input.sk-hidden--visually {border: 0;clip: rect(1px 1px 1px 1px);clip: rect(1px, 1px, 1px, 1px);height: 1px;margin: -1px;overflow: hidden;padding: 0;position: absolute;width: 1px;}#sk-container-id-1 div.sk-estimator {font-family: monospace;background-color: #f0f8ff;border: 1px dotted black;border-radius: 0.25em;box-sizing: border-box;margin-bottom: 0.5em;}#sk-container-id-1 div.sk-estimator:hover {background-color: #d4ebff;}#sk-container-id-1 div.sk-parallel-item::after {content: \"\";width: 100%;border-bottom: 1px solid gray;flex-grow: 1;}#sk-container-id-1 div.sk-label:hover label.sk-toggleable__label {background-color: #d4ebff;}#sk-container-id-1 div.sk-serial::before {content: \"\";position: absolute;border-left: 1px solid gray;box-sizing: border-box;top: 0;bottom: 0;left: 50%;z-index: 0;}#sk-container-id-1 div.sk-serial {display: flex;flex-direction: column;align-items: center;background-color: white;padding-right: 0.2em;padding-left: 0.2em;position: relative;}#sk-container-id-1 div.sk-item {position: relative;z-index: 1;}#sk-container-id-1 div.sk-parallel {display: flex;align-items: stretch;justify-content: center;background-color: white;position: relative;}#sk-container-id-1 div.sk-item::before, #sk-container-id-1 div.sk-parallel-item::before {content: \"\";position: absolute;border-left: 1px solid gray;box-sizing: border-box;top: 0;bottom: 0;left: 50%;z-index: -1;}#sk-container-id-1 div.sk-parallel-item {display: flex;flex-direction: column;z-index: 1;position: relative;background-color: white;}#sk-container-id-1 div.sk-parallel-item:first-child::after {align-self: flex-end;width: 50%;}#sk-container-id-1 div.sk-parallel-item:last-child::after {align-self: flex-start;width: 50%;}#sk-container-id-1 div.sk-parallel-item:only-child::after {width: 0;}#sk-container-id-1 div.sk-dashed-wrapped {border: 1px dashed gray;margin: 0 0.4em 0.5em 0.4em;box-sizing: border-box;padding-bottom: 0.4em;background-color: white;}#sk-container-id-1 div.sk-label label {font-family: monospace;font-weight: bold;display: inline-block;line-height: 1.2em;}#sk-container-id-1 div.sk-label-container {text-align: center;}#sk-container-id-1 div.sk-container {/* jupyter's `normalize.less` sets `[hidden] { display: none; }` but bootstrap.min.css set `[hidden] { display: none !important; }` so we also need the `!important` here to be able to override the default hidden behavior on the sphinx rendered scikit-learn.org. See: https://github.com/scikit-learn/scikit-learn/issues/21755 */display: inline-block !important;position: relative;}#sk-container-id-1 div.sk-text-repr-fallback {display: none;}</style><div id=\"sk-container-id-1\" class=\"sk-top-container\"><div class=\"sk-text-repr-fallback\"><pre>RandomForestClassifier()</pre><b>In a Jupyter environment, please rerun this cell to show the HTML representation or trust the notebook. <br />On GitHub, the HTML representation is unable to render, please try loading this page with nbviewer.org.</b></div><div class=\"sk-container\" hidden><div class=\"sk-item\"><div class=\"sk-estimator sk-toggleable\"><input class=\"sk-toggleable__control sk-hidden--visually\" id=\"sk-estimator-id-1\" type=\"checkbox\" checked><label for=\"sk-estimator-id-1\" class=\"sk-toggleable__label sk-toggleable__label-arrow\">RandomForestClassifier</label><div class=\"sk-toggleable__content\"><pre>RandomForestClassifier()</pre></div></div></div></div></div>"
            ]
          },
          "metadata": {},
          "execution_count": 74
        }
      ]
    },
    {
      "cell_type": "code",
      "source": [
        "y_pred = rf.predict(x_test_bow)"
      ],
      "metadata": {
        "id": "mx6htnVscMHR"
      },
      "execution_count": 75,
      "outputs": []
    },
    {
      "cell_type": "code",
      "source": [
        "from sklearn.metrics import accuracy_score"
      ],
      "metadata": {
        "id": "a4c0fvOidbll"
      },
      "execution_count": 76,
      "outputs": []
    },
    {
      "cell_type": "code",
      "source": [
        "print('The accuracy score is :',accuracy_score(y_test,y_pred))"
      ],
      "metadata": {
        "colab": {
          "base_uri": "https://localhost:8080/"
        },
        "id": "mVpnGVHGdLst",
        "outputId": "7557649b-762d-492b-d65d-13cbbc58fc40"
      },
      "execution_count": 77,
      "outputs": [
        {
          "output_type": "stream",
          "name": "stdout",
          "text": [
            "The accuracy score is : 0.245\n"
          ]
        }
      ]
    },
    {
      "cell_type": "code",
      "source": [
        "#logisticregression"
      ],
      "metadata": {
        "id": "fWimGi3NeIVg"
      },
      "execution_count": null,
      "outputs": []
    },
    {
      "cell_type": "code",
      "source": [
        "from sklearn.linear_model import LogisticRegression"
      ],
      "metadata": {
        "id": "WiAtKsjGdcVz"
      },
      "execution_count": 78,
      "outputs": []
    },
    {
      "cell_type": "code",
      "source": [
        "lr=LogisticRegression()"
      ],
      "metadata": {
        "id": "ukPWd3O8dlEl"
      },
      "execution_count": 79,
      "outputs": []
    },
    {
      "cell_type": "code",
      "source": [
        "lr.fit(x_train_bow, y_train)"
      ],
      "metadata": {
        "colab": {
          "base_uri": "https://localhost:8080/",
          "height": 213
        },
        "id": "a00MtZMjdtjq",
        "outputId": "daced872-d298-4493-b5ef-1abc836375db"
      },
      "execution_count": 80,
      "outputs": [
        {
          "output_type": "stream",
          "name": "stderr",
          "text": [
            "/usr/local/lib/python3.10/dist-packages/sklearn/linear_model/_logistic.py:458: ConvergenceWarning: lbfgs failed to converge (status=1):\n",
            "STOP: TOTAL NO. of ITERATIONS REACHED LIMIT.\n",
            "\n",
            "Increase the number of iterations (max_iter) or scale the data as shown in:\n",
            "    https://scikit-learn.org/stable/modules/preprocessing.html\n",
            "Please also refer to the documentation for alternative solver options:\n",
            "    https://scikit-learn.org/stable/modules/linear_model.html#logistic-regression\n",
            "  n_iter_i = _check_optimize_result(\n"
          ]
        },
        {
          "output_type": "execute_result",
          "data": {
            "text/plain": [
              "LogisticRegression()"
            ],
            "text/html": [
              "<style>#sk-container-id-2 {color: black;background-color: white;}#sk-container-id-2 pre{padding: 0;}#sk-container-id-2 div.sk-toggleable {background-color: white;}#sk-container-id-2 label.sk-toggleable__label {cursor: pointer;display: block;width: 100%;margin-bottom: 0;padding: 0.3em;box-sizing: border-box;text-align: center;}#sk-container-id-2 label.sk-toggleable__label-arrow:before {content: \"▸\";float: left;margin-right: 0.25em;color: #696969;}#sk-container-id-2 label.sk-toggleable__label-arrow:hover:before {color: black;}#sk-container-id-2 div.sk-estimator:hover label.sk-toggleable__label-arrow:before {color: black;}#sk-container-id-2 div.sk-toggleable__content {max-height: 0;max-width: 0;overflow: hidden;text-align: left;background-color: #f0f8ff;}#sk-container-id-2 div.sk-toggleable__content pre {margin: 0.2em;color: black;border-radius: 0.25em;background-color: #f0f8ff;}#sk-container-id-2 input.sk-toggleable__control:checked~div.sk-toggleable__content {max-height: 200px;max-width: 100%;overflow: auto;}#sk-container-id-2 input.sk-toggleable__control:checked~label.sk-toggleable__label-arrow:before {content: \"▾\";}#sk-container-id-2 div.sk-estimator input.sk-toggleable__control:checked~label.sk-toggleable__label {background-color: #d4ebff;}#sk-container-id-2 div.sk-label input.sk-toggleable__control:checked~label.sk-toggleable__label {background-color: #d4ebff;}#sk-container-id-2 input.sk-hidden--visually {border: 0;clip: rect(1px 1px 1px 1px);clip: rect(1px, 1px, 1px, 1px);height: 1px;margin: -1px;overflow: hidden;padding: 0;position: absolute;width: 1px;}#sk-container-id-2 div.sk-estimator {font-family: monospace;background-color: #f0f8ff;border: 1px dotted black;border-radius: 0.25em;box-sizing: border-box;margin-bottom: 0.5em;}#sk-container-id-2 div.sk-estimator:hover {background-color: #d4ebff;}#sk-container-id-2 div.sk-parallel-item::after {content: \"\";width: 100%;border-bottom: 1px solid gray;flex-grow: 1;}#sk-container-id-2 div.sk-label:hover label.sk-toggleable__label {background-color: #d4ebff;}#sk-container-id-2 div.sk-serial::before {content: \"\";position: absolute;border-left: 1px solid gray;box-sizing: border-box;top: 0;bottom: 0;left: 50%;z-index: 0;}#sk-container-id-2 div.sk-serial {display: flex;flex-direction: column;align-items: center;background-color: white;padding-right: 0.2em;padding-left: 0.2em;position: relative;}#sk-container-id-2 div.sk-item {position: relative;z-index: 1;}#sk-container-id-2 div.sk-parallel {display: flex;align-items: stretch;justify-content: center;background-color: white;position: relative;}#sk-container-id-2 div.sk-item::before, #sk-container-id-2 div.sk-parallel-item::before {content: \"\";position: absolute;border-left: 1px solid gray;box-sizing: border-box;top: 0;bottom: 0;left: 50%;z-index: -1;}#sk-container-id-2 div.sk-parallel-item {display: flex;flex-direction: column;z-index: 1;position: relative;background-color: white;}#sk-container-id-2 div.sk-parallel-item:first-child::after {align-self: flex-end;width: 50%;}#sk-container-id-2 div.sk-parallel-item:last-child::after {align-self: flex-start;width: 50%;}#sk-container-id-2 div.sk-parallel-item:only-child::after {width: 0;}#sk-container-id-2 div.sk-dashed-wrapped {border: 1px dashed gray;margin: 0 0.4em 0.5em 0.4em;box-sizing: border-box;padding-bottom: 0.4em;background-color: white;}#sk-container-id-2 div.sk-label label {font-family: monospace;font-weight: bold;display: inline-block;line-height: 1.2em;}#sk-container-id-2 div.sk-label-container {text-align: center;}#sk-container-id-2 div.sk-container {/* jupyter's `normalize.less` sets `[hidden] { display: none; }` but bootstrap.min.css set `[hidden] { display: none !important; }` so we also need the `!important` here to be able to override the default hidden behavior on the sphinx rendered scikit-learn.org. See: https://github.com/scikit-learn/scikit-learn/issues/21755 */display: inline-block !important;position: relative;}#sk-container-id-2 div.sk-text-repr-fallback {display: none;}</style><div id=\"sk-container-id-2\" class=\"sk-top-container\"><div class=\"sk-text-repr-fallback\"><pre>LogisticRegression()</pre><b>In a Jupyter environment, please rerun this cell to show the HTML representation or trust the notebook. <br />On GitHub, the HTML representation is unable to render, please try loading this page with nbviewer.org.</b></div><div class=\"sk-container\" hidden><div class=\"sk-item\"><div class=\"sk-estimator sk-toggleable\"><input class=\"sk-toggleable__control sk-hidden--visually\" id=\"sk-estimator-id-2\" type=\"checkbox\" checked><label for=\"sk-estimator-id-2\" class=\"sk-toggleable__label sk-toggleable__label-arrow\">LogisticRegression</label><div class=\"sk-toggleable__content\"><pre>LogisticRegression()</pre></div></div></div></div></div>"
            ]
          },
          "metadata": {},
          "execution_count": 80
        }
      ]
    },
    {
      "cell_type": "code",
      "source": [
        "y_pred = lr.predict(x_test_bow)"
      ],
      "metadata": {
        "id": "3ebcE-ladxSY"
      },
      "execution_count": 81,
      "outputs": []
    },
    {
      "cell_type": "code",
      "source": [
        "print('The accuracy score is :' , accuracy_score(y_test,y_pred))"
      ],
      "metadata": {
        "colab": {
          "base_uri": "https://localhost:8080/"
        },
        "id": "oI_y7u-zd9SE",
        "outputId": "7a6c7f0b-5dfd-4a0b-cb62-751628a41574"
      },
      "execution_count": 82,
      "outputs": [
        {
          "output_type": "stream",
          "name": "stdout",
          "text": [
            "The accuracy score is : 0.27825\n"
          ]
        }
      ]
    },
    {
      "cell_type": "code",
      "source": [
        "from xgboost import XGBClassifier"
      ],
      "metadata": {
        "id": "Yo6sTzwheMzN"
      },
      "execution_count": 83,
      "outputs": []
    },
    {
      "cell_type": "code",
      "source": [
        "xgb = XGBClassifier()"
      ],
      "metadata": {
        "id": "Z4013iO2fEBK"
      },
      "execution_count": 86,
      "outputs": []
    },
    {
      "cell_type": "code",
      "source": [
        "xgb.fit(x_train_bow, y_train)"
      ],
      "metadata": {
        "id": "Co5hKdEHfJn-"
      },
      "execution_count": null,
      "outputs": []
    },
    {
      "cell_type": "code",
      "source": [
        "print('The accuracy score is:' , accuracy_score(y_test,y_pred))"
      ],
      "metadata": {
        "id": "nP2L7oDBfcjq"
      },
      "execution_count": null,
      "outputs": []
    },
    {
      "cell_type": "code",
      "source": [
        "#plotting the graph of the accuracy of the models"
      ],
      "metadata": {
        "id": "xmsLc-8jomHb"
      },
      "execution_count": 155,
      "outputs": []
    },
    {
      "cell_type": "code",
      "source": [
        "import matplotlib.pyplot as plt\n",
        "import numpy as np"
      ],
      "metadata": {
        "id": "km31EgpeijOo"
      },
      "execution_count": 106,
      "outputs": []
    },
    {
      "cell_type": "code",
      "source": [
        "models = ['LogisticRegression', 'RandomForestClassifier']\n",
        "accuracy_scores = [0.27, 0.24]"
      ],
      "metadata": {
        "id": "Pnck5G3BokCk"
      },
      "execution_count": 153,
      "outputs": []
    },
    {
      "cell_type": "code",
      "source": [
        "plt.bar(models, accuracy_scores, color=['blue', 'green'])\n",
        "plt.xlabel('Models')\n",
        "plt.ylabel('Accuracy Scores')\n",
        "plt.title(\"The accuracy scores of the models\")\n",
        "plt.ylim(0, 1)\n",
        "plt.show()"
      ],
      "metadata": {
        "colab": {
          "base_uri": "https://localhost:8080/",
          "height": 472
        },
        "id": "NC8rCn-yntJG",
        "outputId": "9f592e27-bd0e-4650-ecfc-5b7112d1054a"
      },
      "execution_count": 154,
      "outputs": [
        {
          "output_type": "display_data",
          "data": {
            "text/plain": [
              "<Figure size 640x480 with 1 Axes>"
            ],
            "image/png": "[encoded data removed]"
          },
          "metadata": {}
        }
      ]
    }
  ]
}